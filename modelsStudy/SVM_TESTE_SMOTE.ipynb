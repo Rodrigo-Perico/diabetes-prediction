{
  "cells": [
    {
      "cell_type": "markdown",
      "metadata": {
        "id": "view-in-github",
        "colab_type": "text"
      },
      "source": [
        "<a href=\"https://colab.research.google.com/github/Murilo1514/Diabets_prediction_pipeline/blob/main/SVM.ipynb\" target=\"_parent\"><img src=\"https://colab.research.google.com/assets/colab-badge.svg\" alt=\"Open In Colab\"/></a>"
      ]
    },
    {
      "cell_type": "code",
      "execution_count": 3,
      "metadata": {
        "colab": {
          "base_uri": "https://localhost:8080/"
        },
        "id": "UAnTygW5DaUf",
        "outputId": "07ef7bf8-411a-44e5-91d5-1950301bcafc"
      },
      "outputs": [
        {
          "output_type": "stream",
          "name": "stdout",
          "text": [
            "Collecting optuna\n",
            "  Downloading optuna-4.1.0-py3-none-any.whl.metadata (16 kB)\n",
            "Collecting alembic>=1.5.0 (from optuna)\n",
            "  Downloading alembic-1.14.0-py3-none-any.whl.metadata (7.4 kB)\n",
            "Collecting colorlog (from optuna)\n",
            "  Downloading colorlog-6.9.0-py3-none-any.whl.metadata (10 kB)\n",
            "Requirement already satisfied: numpy in /usr/local/lib/python3.10/dist-packages (from optuna) (1.26.4)\n",
            "Requirement already satisfied: packaging>=20.0 in /usr/local/lib/python3.10/dist-packages (from optuna) (24.2)\n",
            "Requirement already satisfied: sqlalchemy>=1.4.2 in /usr/local/lib/python3.10/dist-packages (from optuna) (2.0.36)\n",
            "Requirement already satisfied: tqdm in /usr/local/lib/python3.10/dist-packages (from optuna) (4.66.6)\n",
            "Requirement already satisfied: PyYAML in /usr/local/lib/python3.10/dist-packages (from optuna) (6.0.2)\n",
            "Collecting Mako (from alembic>=1.5.0->optuna)\n",
            "  Downloading Mako-1.3.6-py3-none-any.whl.metadata (2.9 kB)\n",
            "Requirement already satisfied: typing-extensions>=4 in /usr/local/lib/python3.10/dist-packages (from alembic>=1.5.0->optuna) (4.12.2)\n",
            "Requirement already satisfied: greenlet!=0.4.17 in /usr/local/lib/python3.10/dist-packages (from sqlalchemy>=1.4.2->optuna) (3.1.1)\n",
            "Requirement already satisfied: MarkupSafe>=0.9.2 in /usr/local/lib/python3.10/dist-packages (from Mako->alembic>=1.5.0->optuna) (3.0.2)\n",
            "Downloading optuna-4.1.0-py3-none-any.whl (364 kB)\n",
            "\u001b[2K   \u001b[90m━━━━━━━━━━━━━━━━━━━━━━━━━━━━━━━━━━━━━━━━\u001b[0m \u001b[32m364.4/364.4 kB\u001b[0m \u001b[31m7.7 MB/s\u001b[0m eta \u001b[36m0:00:00\u001b[0m\n",
            "\u001b[?25hDownloading alembic-1.14.0-py3-none-any.whl (233 kB)\n",
            "\u001b[2K   \u001b[90m━━━━━━━━━━━━━━━━━━━━━━━━━━━━━━━━━━━━━━━━\u001b[0m \u001b[32m233.5/233.5 kB\u001b[0m \u001b[31m14.2 MB/s\u001b[0m eta \u001b[36m0:00:00\u001b[0m\n",
            "\u001b[?25hDownloading colorlog-6.9.0-py3-none-any.whl (11 kB)\n",
            "Downloading Mako-1.3.6-py3-none-any.whl (78 kB)\n",
            "\u001b[2K   \u001b[90m━━━━━━━━━━━━━━━━━━━━━━━━━━━━━━━━━━━━━━━━\u001b[0m \u001b[32m78.6/78.6 kB\u001b[0m \u001b[31m5.1 MB/s\u001b[0m eta \u001b[36m0:00:00\u001b[0m\n",
            "\u001b[?25hInstalling collected packages: Mako, colorlog, alembic, optuna\n",
            "Successfully installed Mako-1.3.6 alembic-1.14.0 colorlog-6.9.0 optuna-4.1.0\n",
            "Collecting ucimlrepo\n",
            "  Downloading ucimlrepo-0.0.7-py3-none-any.whl.metadata (5.5 kB)\n",
            "Requirement already satisfied: pandas>=1.0.0 in /usr/local/lib/python3.10/dist-packages (from ucimlrepo) (2.2.2)\n",
            "Requirement already satisfied: certifi>=2020.12.5 in /usr/local/lib/python3.10/dist-packages (from ucimlrepo) (2024.8.30)\n",
            "Requirement already satisfied: numpy>=1.22.4 in /usr/local/lib/python3.10/dist-packages (from pandas>=1.0.0->ucimlrepo) (1.26.4)\n",
            "Requirement already satisfied: python-dateutil>=2.8.2 in /usr/local/lib/python3.10/dist-packages (from pandas>=1.0.0->ucimlrepo) (2.8.2)\n",
            "Requirement already satisfied: pytz>=2020.1 in /usr/local/lib/python3.10/dist-packages (from pandas>=1.0.0->ucimlrepo) (2024.2)\n",
            "Requirement already satisfied: tzdata>=2022.7 in /usr/local/lib/python3.10/dist-packages (from pandas>=1.0.0->ucimlrepo) (2024.2)\n",
            "Requirement already satisfied: six>=1.5 in /usr/local/lib/python3.10/dist-packages (from python-dateutil>=2.8.2->pandas>=1.0.0->ucimlrepo) (1.16.0)\n",
            "Downloading ucimlrepo-0.0.7-py3-none-any.whl (8.0 kB)\n",
            "Installing collected packages: ucimlrepo\n",
            "Successfully installed ucimlrepo-0.0.7\n"
          ]
        }
      ],
      "source": [
        "!pip install optuna\n",
        "!pip install ucimlrepo"
      ]
    },
    {
      "cell_type": "code",
      "execution_count": 44,
      "metadata": {
        "id": "G3NY1sQ1DdCq"
      },
      "outputs": [],
      "source": [
        "import numpy as np\n",
        "import matplotlib.pyplot as plt\n",
        "import pandas as pd\n",
        "import seaborn as sns\n",
        "import statsmodels.api as sm\n",
        "import optuna\n",
        "from plotly.io import show\n",
        "from sklearn.model_selection import train_test_split, GridSearchCV\n",
        "from sklearn.preprocessing import StandardScaler, OneHotEncoder, MinMaxScaler, FunctionTransformer, RobustScaler\n",
        "from sklearn.svm import SVC\n",
        "from sklearn.pipeline import Pipeline, FeatureUnion\n",
        "from sklearn.metrics import accuracy_score, f1_score, make_scorer, confusion_matrix, ConfusionMatrixDisplay, recall_score, precision_score\n",
        "from sklearn.compose import ColumnTransformer\n",
        "from ucimlrepo import fetch_ucirepo\n",
        "from functools import partial\n",
        "from sklearn.decomposition import PCA\n",
        "from sklearn.metrics import classification_report\n",
        "from imblearn.over_sampling import *\n",
        "from sklearn.model_selection import RepeatedStratifiedKFold\n",
        "from sklearn.model_selection import cross_val_score\n",
        "from sklearn.metrics import make_scorer, accuracy_score, precision_score, recall_score, f1_score, roc_auc_score\n",
        "from sklearn.preprocessing import StandardScaler\n",
        "from sklearn.pipeline import make_pipeline\n",
        "from sklearn.impute import SimpleImputer\n"
      ]
    },
    {
      "cell_type": "markdown",
      "source": [
        "# Importando a Base de dados e separando 5%\n",
        "\n"
      ],
      "metadata": {
        "id": "wAvIRQW49dqM"
      }
    },
    {
      "cell_type": "code",
      "execution_count": 45,
      "metadata": {
        "colab": {
          "base_uri": "https://localhost:8080/"
        },
        "id": "89ckwreEDpa2",
        "outputId": "a80328f5-48ca-477f-bae1-4a57441eeb4e",
        "collapsed": true
      },
      "outputs": [
        {
          "output_type": "stream",
          "name": "stderr",
          "text": [
            "<ipython-input-45-0eb90a80a6c7>:6: SettingWithCopyWarning:\n",
            "\n",
            "\n",
            "A value is trying to be set on a copy of a slice from a DataFrame.\n",
            "Try using .loc[row_indexer,col_indexer] = value instead\n",
            "\n",
            "See the caveats in the documentation: https://pandas.pydata.org/pandas-docs/stable/user_guide/indexing.html#returning-a-view-versus-a-copy\n",
            "\n"
          ]
        },
        {
          "output_type": "execute_result",
          "data": {
            "text/plain": [
              "Index(['HighBP', 'HighChol', 'CholCheck', 'BMI', 'Smoker', 'Stroke',\n",
              "       'HeartDiseaseorAttack', 'PhysActivity', 'Fruits', 'Veggies',\n",
              "       'HvyAlcoholConsump', 'AnyHealthcare', 'NoDocbcCost', 'GenHlth',\n",
              "       'MentHlth', 'PhysHlth', 'DiffWalk', 'Sex', 'Age', 'Education', 'Income',\n",
              "       'Diabetes_binary'],\n",
              "      dtype='object')"
            ]
          },
          "metadata": {},
          "execution_count": 45
        }
      ],
      "source": [
        "cdc_diabetes_health_indicators = fetch_ucirepo(id=891)\n",
        "\n",
        "data = cdc_diabetes_health_indicators.data.features\n",
        "aux = cdc_diabetes_health_indicators.data.targets\n",
        "\n",
        "data[\"Diabetes_binary\"] = aux[\"Diabetes_binary\"]\n",
        "\n",
        "#print(cdc_diabetes_health_indicators.metadata)\n",
        "\n",
        "#print(cdc_diabetes_health_indicators.variables)\n",
        "\n",
        "data.columns"
      ]
    },
    {
      "cell_type": "code",
      "source": [
        "\"\"\"\n",
        "data['Age']=data['Age'].astype('int64')\n",
        "data['Education']=data['Education'].astype('int64')\n",
        "data['Income']=data['Income'].astype('int64')\n",
        "data['BMI']=data['BMI'].astype('int64')\n",
        "data['CholCheck']=data['CholCheck'].astype('int64')\n",
        "data['Smoker']=data['Smoker'].astype('int64')\n",
        "data['Stroke']=data['Stroke'].astype('int64')\n",
        "data['HeartDiseaseorAttack']=data['HeartDiseaseorAttack'].astype('int64')\n",
        "data['PhysActivity']=data['PhysActivity'].astype('int64')\n",
        "data['Fruits']=data['Fruits'].astype('int64')\n",
        "data['Veggies']=data['Veggies'].astype('int64')\n",
        "data['HvyAlcoholConsump']=data['HvyAlcoholConsump'].astype('int64')\n",
        "data['AnyHealthcare']=data['AnyHealthcare'].astype('int64')\n",
        "data['NoDocbcCost']=data['NoDocbcCost'].astype('int64')\n",
        "data['GenHlth']=data['GenHlth'].astype('int64')\n",
        "data['MentHlth']=data['MentHlth'].astype('int64')\n",
        "data['PhysHlth']=data['PhysHlth'].astype('int64')\n",
        "data['DiffWalk']=data['DiffWalk'].astype('int64')\n",
        "data['Sex']=data['Sex'].astype('int64')\n",
        "data['Diabetes_binary']=data['Diabetes_binary'].astype('int64')\n",
        "data['HighBP']=data['HighBP'].astype('int64')\n",
        "data['HighChol']=data['HighChol'].astype('int64')"
      ],
      "metadata": {
        "colab": {
          "base_uri": "https://localhost:8080/"
        },
        "collapsed": true,
        "id": "KbwMmeKbHcxO",
        "outputId": "9b18d1bb-269b-4042-b438-17ac1264836d"
      },
      "execution_count": 24,
      "outputs": [
        {
          "output_type": "stream",
          "name": "stderr",
          "text": [
            "<ipython-input-24-bc92d329addf>:1: SettingWithCopyWarning:\n",
            "\n",
            "\n",
            "A value is trying to be set on a copy of a slice from a DataFrame.\n",
            "Try using .loc[row_indexer,col_indexer] = value instead\n",
            "\n",
            "See the caveats in the documentation: https://pandas.pydata.org/pandas-docs/stable/user_guide/indexing.html#returning-a-view-versus-a-copy\n",
            "\n",
            "<ipython-input-24-bc92d329addf>:2: SettingWithCopyWarning:\n",
            "\n",
            "\n",
            "A value is trying to be set on a copy of a slice from a DataFrame.\n",
            "Try using .loc[row_indexer,col_indexer] = value instead\n",
            "\n",
            "See the caveats in the documentation: https://pandas.pydata.org/pandas-docs/stable/user_guide/indexing.html#returning-a-view-versus-a-copy\n",
            "\n",
            "<ipython-input-24-bc92d329addf>:3: SettingWithCopyWarning:\n",
            "\n",
            "\n",
            "A value is trying to be set on a copy of a slice from a DataFrame.\n",
            "Try using .loc[row_indexer,col_indexer] = value instead\n",
            "\n",
            "See the caveats in the documentation: https://pandas.pydata.org/pandas-docs/stable/user_guide/indexing.html#returning-a-view-versus-a-copy\n",
            "\n",
            "<ipython-input-24-bc92d329addf>:4: SettingWithCopyWarning:\n",
            "\n",
            "\n",
            "A value is trying to be set on a copy of a slice from a DataFrame.\n",
            "Try using .loc[row_indexer,col_indexer] = value instead\n",
            "\n",
            "See the caveats in the documentation: https://pandas.pydata.org/pandas-docs/stable/user_guide/indexing.html#returning-a-view-versus-a-copy\n",
            "\n",
            "<ipython-input-24-bc92d329addf>:5: SettingWithCopyWarning:\n",
            "\n",
            "\n",
            "A value is trying to be set on a copy of a slice from a DataFrame.\n",
            "Try using .loc[row_indexer,col_indexer] = value instead\n",
            "\n",
            "See the caveats in the documentation: https://pandas.pydata.org/pandas-docs/stable/user_guide/indexing.html#returning-a-view-versus-a-copy\n",
            "\n",
            "<ipython-input-24-bc92d329addf>:6: SettingWithCopyWarning:\n",
            "\n",
            "\n",
            "A value is trying to be set on a copy of a slice from a DataFrame.\n",
            "Try using .loc[row_indexer,col_indexer] = value instead\n",
            "\n",
            "See the caveats in the documentation: https://pandas.pydata.org/pandas-docs/stable/user_guide/indexing.html#returning-a-view-versus-a-copy\n",
            "\n",
            "<ipython-input-24-bc92d329addf>:7: SettingWithCopyWarning:\n",
            "\n",
            "\n",
            "A value is trying to be set on a copy of a slice from a DataFrame.\n",
            "Try using .loc[row_indexer,col_indexer] = value instead\n",
            "\n",
            "See the caveats in the documentation: https://pandas.pydata.org/pandas-docs/stable/user_guide/indexing.html#returning-a-view-versus-a-copy\n",
            "\n",
            "<ipython-input-24-bc92d329addf>:8: SettingWithCopyWarning:\n",
            "\n",
            "\n",
            "A value is trying to be set on a copy of a slice from a DataFrame.\n",
            "Try using .loc[row_indexer,col_indexer] = value instead\n",
            "\n",
            "See the caveats in the documentation: https://pandas.pydata.org/pandas-docs/stable/user_guide/indexing.html#returning-a-view-versus-a-copy\n",
            "\n",
            "<ipython-input-24-bc92d329addf>:9: SettingWithCopyWarning:\n",
            "\n",
            "\n",
            "A value is trying to be set on a copy of a slice from a DataFrame.\n",
            "Try using .loc[row_indexer,col_indexer] = value instead\n",
            "\n",
            "See the caveats in the documentation: https://pandas.pydata.org/pandas-docs/stable/user_guide/indexing.html#returning-a-view-versus-a-copy\n",
            "\n",
            "<ipython-input-24-bc92d329addf>:10: SettingWithCopyWarning:\n",
            "\n",
            "\n",
            "A value is trying to be set on a copy of a slice from a DataFrame.\n",
            "Try using .loc[row_indexer,col_indexer] = value instead\n",
            "\n",
            "See the caveats in the documentation: https://pandas.pydata.org/pandas-docs/stable/user_guide/indexing.html#returning-a-view-versus-a-copy\n",
            "\n",
            "<ipython-input-24-bc92d329addf>:11: SettingWithCopyWarning:\n",
            "\n",
            "\n",
            "A value is trying to be set on a copy of a slice from a DataFrame.\n",
            "Try using .loc[row_indexer,col_indexer] = value instead\n",
            "\n",
            "See the caveats in the documentation: https://pandas.pydata.org/pandas-docs/stable/user_guide/indexing.html#returning-a-view-versus-a-copy\n",
            "\n",
            "<ipython-input-24-bc92d329addf>:12: SettingWithCopyWarning:\n",
            "\n",
            "\n",
            "A value is trying to be set on a copy of a slice from a DataFrame.\n",
            "Try using .loc[row_indexer,col_indexer] = value instead\n",
            "\n",
            "See the caveats in the documentation: https://pandas.pydata.org/pandas-docs/stable/user_guide/indexing.html#returning-a-view-versus-a-copy\n",
            "\n",
            "<ipython-input-24-bc92d329addf>:13: SettingWithCopyWarning:\n",
            "\n",
            "\n",
            "A value is trying to be set on a copy of a slice from a DataFrame.\n",
            "Try using .loc[row_indexer,col_indexer] = value instead\n",
            "\n",
            "See the caveats in the documentation: https://pandas.pydata.org/pandas-docs/stable/user_guide/indexing.html#returning-a-view-versus-a-copy\n",
            "\n",
            "<ipython-input-24-bc92d329addf>:14: SettingWithCopyWarning:\n",
            "\n",
            "\n",
            "A value is trying to be set on a copy of a slice from a DataFrame.\n",
            "Try using .loc[row_indexer,col_indexer] = value instead\n",
            "\n",
            "See the caveats in the documentation: https://pandas.pydata.org/pandas-docs/stable/user_guide/indexing.html#returning-a-view-versus-a-copy\n",
            "\n",
            "<ipython-input-24-bc92d329addf>:15: SettingWithCopyWarning:\n",
            "\n",
            "\n",
            "A value is trying to be set on a copy of a slice from a DataFrame.\n",
            "Try using .loc[row_indexer,col_indexer] = value instead\n",
            "\n",
            "See the caveats in the documentation: https://pandas.pydata.org/pandas-docs/stable/user_guide/indexing.html#returning-a-view-versus-a-copy\n",
            "\n",
            "<ipython-input-24-bc92d329addf>:16: SettingWithCopyWarning:\n",
            "\n",
            "\n",
            "A value is trying to be set on a copy of a slice from a DataFrame.\n",
            "Try using .loc[row_indexer,col_indexer] = value instead\n",
            "\n",
            "See the caveats in the documentation: https://pandas.pydata.org/pandas-docs/stable/user_guide/indexing.html#returning-a-view-versus-a-copy\n",
            "\n",
            "<ipython-input-24-bc92d329addf>:17: SettingWithCopyWarning:\n",
            "\n",
            "\n",
            "A value is trying to be set on a copy of a slice from a DataFrame.\n",
            "Try using .loc[row_indexer,col_indexer] = value instead\n",
            "\n",
            "See the caveats in the documentation: https://pandas.pydata.org/pandas-docs/stable/user_guide/indexing.html#returning-a-view-versus-a-copy\n",
            "\n",
            "<ipython-input-24-bc92d329addf>:18: SettingWithCopyWarning:\n",
            "\n",
            "\n",
            "A value is trying to be set on a copy of a slice from a DataFrame.\n",
            "Try using .loc[row_indexer,col_indexer] = value instead\n",
            "\n",
            "See the caveats in the documentation: https://pandas.pydata.org/pandas-docs/stable/user_guide/indexing.html#returning-a-view-versus-a-copy\n",
            "\n",
            "<ipython-input-24-bc92d329addf>:19: SettingWithCopyWarning:\n",
            "\n",
            "\n",
            "A value is trying to be set on a copy of a slice from a DataFrame.\n",
            "Try using .loc[row_indexer,col_indexer] = value instead\n",
            "\n",
            "See the caveats in the documentation: https://pandas.pydata.org/pandas-docs/stable/user_guide/indexing.html#returning-a-view-versus-a-copy\n",
            "\n",
            "<ipython-input-24-bc92d329addf>:20: SettingWithCopyWarning:\n",
            "\n",
            "\n",
            "A value is trying to be set on a copy of a slice from a DataFrame.\n",
            "Try using .loc[row_indexer,col_indexer] = value instead\n",
            "\n",
            "See the caveats in the documentation: https://pandas.pydata.org/pandas-docs/stable/user_guide/indexing.html#returning-a-view-versus-a-copy\n",
            "\n",
            "<ipython-input-24-bc92d329addf>:21: SettingWithCopyWarning:\n",
            "\n",
            "\n",
            "A value is trying to be set on a copy of a slice from a DataFrame.\n",
            "Try using .loc[row_indexer,col_indexer] = value instead\n",
            "\n",
            "See the caveats in the documentation: https://pandas.pydata.org/pandas-docs/stable/user_guide/indexing.html#returning-a-view-versus-a-copy\n",
            "\n",
            "<ipython-input-24-bc92d329addf>:22: SettingWithCopyWarning:\n",
            "\n",
            "\n",
            "A value is trying to be set on a copy of a slice from a DataFrame.\n",
            "Try using .loc[row_indexer,col_indexer] = value instead\n",
            "\n",
            "See the caveats in the documentation: https://pandas.pydata.org/pandas-docs/stable/user_guide/indexing.html#returning-a-view-versus-a-copy\n",
            "\n"
          ]
        }
      ]
    },
    {
      "cell_type": "code",
      "execution_count": 46,
      "metadata": {
        "colab": {
          "base_uri": "https://localhost:8080/"
        },
        "id": "48GTx8q5Cp_0",
        "outputId": "012e261e-6976-4ded-d28d-85034bcbab5a"
      },
      "outputs": [
        {
          "output_type": "stream",
          "name": "stderr",
          "text": [
            "<ipython-input-46-1ecf93f2f3f5>:3: SettingWithCopyWarning:\n",
            "\n",
            "\n",
            "A value is trying to be set on a copy of a slice from a DataFrame\n",
            "\n",
            "See the caveats in the documentation: https://pandas.pydata.org/pandas-docs/stable/user_guide/indexing.html#returning-a-view-versus-a-copy\n",
            "\n"
          ]
        }
      ],
      "source": [
        "data.duplicated().sum()\n",
        "\n",
        "data.drop_duplicates(inplace=True)"
      ]
    },
    {
      "cell_type": "code",
      "source": [
        "numerical_columns = ['BMI', 'MentHlth', 'PhysHlth']\n",
        "\n",
        "categorical_columns = ['GenHlth', 'Age', 'Education', 'Income']\n",
        "binary_columns = ['HighBP', 'HighChol', 'CholCheck', 'Smoker', 'Stroke', 'HeartDiseaseorAttack', 'PhysActivity', 'Fruits', 'Veggies', 'HvyAlcoholConsump', 'AnyHealthcare', 'NoDocbcCost', 'DiffWalk', 'Sex']"
      ],
      "metadata": {
        "id": "6dv3HxXpIjeS"
      },
      "execution_count": 47,
      "outputs": []
    },
    {
      "cell_type": "code",
      "source": [
        "data1 = data.sample(frac=0.1, random_state=42)\n",
        "\n",
        "x = data1.drop('Diabetes_binary', axis = 1)\n",
        "y = data1['Diabetes_binary']"
      ],
      "metadata": {
        "id": "cWiKi0DNJKrD"
      },
      "execution_count": 48,
      "outputs": []
    },
    {
      "cell_type": "code",
      "execution_count": 49,
      "metadata": {
        "id": "fkyC2AZ1Duut"
      },
      "outputs": [],
      "source": [
        "x_train, x_test, y_train, y_test = train_test_split(x, y, test_size=0.2, random_state=42, stratify=y)\n",
        "\n",
        "x_train, x_validation, y_train, y_validation = train_test_split(x_train, y_train, test_size=0.15, random_state=42, stratify=y_train)\n"
      ]
    },
    {
      "cell_type": "code",
      "source": [
        "# scaler = StandardScaler()\n",
        "# x_train = scaler.fit_transform(x_train)\n",
        "# x_test = scaler.transform(x_test)"
      ],
      "metadata": {
        "id": "MK3DxA8pFW8E"
      },
      "execution_count": 50,
      "outputs": []
    },
    {
      "cell_type": "code",
      "execution_count": 51,
      "metadata": {
        "id": "Huu04LinEmNk"
      },
      "outputs": [],
      "source": [
        "preprocessor_svm = ColumnTransformer(\n",
        "    transformers=[\n",
        "        ('num', StandardScaler(), numerical_columns),\n",
        "        ('cat', OneHotEncoder(sparse_output= False, feature_name_combiner = 'concat'), categorical_columns),\n",
        "        ('bin', 'passthrough', binary_columns),\n",
        "    ])\n",
        "\n",
        "\n",
        "pipeline = Pipeline(steps=[\n",
        "      ('preprocessor_svm', preprocessor_svm),\n",
        "      ('model', SVC())\n",
        "      #('model', model)\n",
        "      #('outlier_remover', outlier_remover),\n",
        "      #('svm' , SVC(kernel='sigmoid', gamma = 0.01, C=733)),\n",
        "  ])"
      ]
    },
    {
      "cell_type": "markdown",
      "source": [
        "###                                Oversampling"
      ],
      "metadata": {
        "id": "jV0TVTAHf2Ey"
      }
    },
    {
      "cell_type": "code",
      "source": [
        "over_methods = [\n",
        "    ADASYN(random_state=7),\n",
        "    BorderlineSMOTE(random_state=7),\n",
        "    RandomOverSampler(random_state=7),\n",
        "    SMOTE(random_state=7),\n",
        "    SVMSMOTE(random_state=7)\n",
        "]"
      ],
      "metadata": {
        "id": "elDIdd3Lhnb0"
      },
      "execution_count": 52,
      "outputs": []
    },
    {
      "cell_type": "markdown",
      "source": [],
      "metadata": {
        "id": "RFS8f4zvgXxi"
      }
    },
    {
      "cell_type": "code",
      "source": [
        "classifiers =[\n",
        "    SVC()\n",
        "]"
      ],
      "metadata": {
        "id": "nUO6YaMKf1O9"
      },
      "execution_count": 53,
      "outputs": []
    },
    {
      "cell_type": "markdown",
      "source": [
        "Metricas para comparar os métodos"
      ],
      "metadata": {
        "id": "39FdGaR2sHS1"
      }
    },
    {
      "cell_type": "code",
      "source": [
        "metrics = {\n",
        "    'roc_auc': 'roc_auc',\n",
        "    'accuracy': make_scorer(accuracy_score),\n",
        "    'precision': make_scorer(precision_score),\n",
        "    'recall': make_scorer(recall_score),\n",
        "    'f1': make_scorer(f1_score)\n",
        "}\n"
      ],
      "metadata": {
        "id": "WAAfW7lksGrK"
      },
      "execution_count": 54,
      "outputs": []
    },
    {
      "cell_type": "code",
      "source": [
        "steps = [('model', SVC(kernel='sigmoid', C=733, gamma= 0.01  ))]\n",
        "pipeline = Pipeline(steps=steps)\n",
        "\n",
        "cv = RepeatedStratifiedKFold(n_splits=5, n_repeats=3, random_state=7)\n",
        "\n",
        "for metric_name, metric in metrics.items():\n",
        "    scores = cross_val_score(\n",
        "        pipeline, x_train, y_train, scoring=metric, cv=cv, n_jobs=-1\n",
        "    )\n",
        "    print(f\"{metric_name.upper()} for SVM is {round(np.mean(scores), 5)}\")\n"
      ],
      "metadata": {
        "colab": {
          "base_uri": "https://localhost:8080/"
        },
        "id": "azkEPGWQgMyF",
        "outputId": "3b5a832d-4143-4523-f4ec-020b185c836b"
      },
      "execution_count": null,
      "outputs": [
        {
          "output_type": "stream",
          "name": "stdout",
          "text": [
            "ROC_AUC for SVM is 0.65854\n",
            "ACCURACY for SVM is 0.78047\n",
            "PRECISION for SVM is 0.29426\n",
            "RECALL for SVM is 0.28721\n",
            "F1 for SVM is 0.29056\n"
          ]
        }
      ]
    },
    {
      "cell_type": "code",
      "source": [
        "for classifier in classifiers:\n",
        "    for method in over_methods:\n",
        "        X_resampled, y_resampled = method.fit_resample(x_train, y_train)\n",
        "\n",
        "        pipeline = Pipeline([\n",
        "            ('scaler', StandardScaler()),\n",
        "            ('classifier', classifier)\n",
        "        ])\n",
        "\n",
        "        cv = RepeatedStratifiedKFold(n_splits=3, n_repeats=3, random_state=7)\n",
        "\n",
        "        for metric_name, metric in metrics.items():\n",
        "            scores = cross_val_score(\n",
        "                pipeline, X_resampled, y_resampled, scoring=metric, cv=cv, n_jobs=-1\n",
        "            )\n",
        "            print(f\"{metric_name.upper()} for {classifier.__class__.__name__} and {method.__class__.__name__} is {round(np.mean(scores), 5)}\")\n",
        "        print(\"================================================================\")\n"
      ],
      "metadata": {
        "colab": {
          "base_uri": "https://localhost:8080/"
        },
        "id": "gXI8njysjE6d",
        "outputId": "fdbf4d82-3c0a-46f8-f6ca-aa3909c2c701"
      },
      "execution_count": null,
      "outputs": [
        {
          "output_type": "stream",
          "name": "stdout",
          "text": [
            "ROC_AUC for SVC and ADASYN is 0.93804\n",
            "ACCURACY for SVC and ADASYN is 0.85946\n",
            "PRECISION for SVC and ADASYN is 0.84634\n",
            "RECALL for SVC and ADASYN is 0.87647\n",
            "F1 for SVC and ADASYN is 0.86113\n",
            "ROC_AUC for SVC and BorderlineSMOTE is 0.9436\n",
            "ACCURACY for SVC and BorderlineSMOTE is 0.87106\n",
            "PRECISION for SVC and BorderlineSMOTE is 0.85496\n",
            "RECALL for SVC and BorderlineSMOTE is 0.89377\n",
            "F1 for SVC and BorderlineSMOTE is 0.87392\n",
            "ROC_AUC for SVC and RandomOverSampler is 0.883\n",
            "ACCURACY for SVC and RandomOverSampler is 0.80567\n",
            "PRECISION for SVC and RandomOverSampler is 0.77212\n",
            "RECALL for SVC and RandomOverSampler is 0.86735\n",
            "F1 for SVC and RandomOverSampler is 0.81696\n",
            "ROC_AUC for SVC and SMOTE is 0.94098\n",
            "ACCURACY for SVC and SMOTE is 0.86573\n",
            "PRECISION for SVC and SMOTE is 0.85844\n",
            "RECALL for SVC and SMOTE is 0.87591\n",
            "F1 for SVC and SMOTE is 0.86707\n",
            "ROC_AUC for SVC and SVMSMOTE is 0.92664\n",
            "ACCURACY for SVC and SVMSMOTE is 0.85553\n",
            "PRECISION for SVC and SVMSMOTE is 0.83235\n",
            "RECALL for SVC and SVMSMOTE is 0.89043\n",
            "F1 for SVC and SVMSMOTE is 0.8604\n"
          ]
        }
      ]
    },
    {
      "cell_type": "markdown",
      "source": [
        "## TESTANDO ACURÁCIA ANTES DE APLICAR O BORDERLINESMOTE"
      ],
      "metadata": {
        "id": "avdZTlyvJASn"
      }
    },
    {
      "cell_type": "code",
      "source": [
        "model = SVC()\n",
        "pipeline = make_pipeline( model)\n",
        "\n",
        "pipeline.fit(x_train, y_train)\n",
        "\n",
        "y_pred = pipeline.predict(x_test)\n",
        "\n",
        "score = classification_report(y_test, y_pred)\n",
        "\n",
        "print(f'{score}')"
      ],
      "metadata": {
        "colab": {
          "base_uri": "https://localhost:8080/"
        },
        "id": "78Gy585PHPSh",
        "outputId": "c33a0a80-56c1-4680-e136-8beea33d9f27"
      },
      "execution_count": 101,
      "outputs": [
        {
          "output_type": "stream",
          "name": "stdout",
          "text": [
            "              precision    recall  f1-score   support\n",
            "\n",
            "           0       0.84      1.00      0.92      3872\n",
            "           1       0.50      0.00      0.01       718\n",
            "\n",
            "    accuracy                           0.84      4590\n",
            "   macro avg       0.67      0.50      0.46      4590\n",
            "weighted avg       0.79      0.84      0.77      4590\n",
            "\n"
          ]
        }
      ]
    },
    {
      "cell_type": "code",
      "source": [
        "x_train.shape"
      ],
      "metadata": {
        "colab": {
          "base_uri": "https://localhost:8080/"
        },
        "id": "h-31B4f2JSA3",
        "outputId": "4effac3f-5941-4edc-a97f-5b1122fce1cd"
      },
      "execution_count": 18,
      "outputs": [
        {
          "output_type": "execute_result",
          "data": {
            "text/plain": [
              "(15603, 49)"
            ]
          },
          "metadata": {},
          "execution_count": 18
        }
      ]
    },
    {
      "cell_type": "code",
      "source": [
        "method = BorderlineSMOTE(random_state=7)\n",
        "x_train_resampled, y_train_resampled = method.fit_resample(x_train, y_train)\n",
        "\n",
        "x_train, y_train = x_train_resampled, y_train_resampled"
      ],
      "metadata": {
        "id": "66SOfkjMvxzw"
      },
      "execution_count": 55,
      "outputs": []
    },
    {
      "cell_type": "code",
      "source": [
        "x_train = preprocessor_svm.fit_transform(x_train)\n",
        "#x_train = x_train2\n",
        "x_validation = preprocessor_svm.transform(x_validation)\n",
        "#x_validation = x_validation2\n",
        "x_test = preprocessor_svm.transform(x_test)\n",
        "#x_test = x_test2\n",
        "\n",
        "# Para visualizar as variáveis transformadas (se precisar)\n",
        "features = preprocessor_svm.get_feature_names_out()\n",
        "x_train = pd.DataFrame(x_train)\n",
        "print(x_train.head())\n",
        "print(len(features))"
      ],
      "metadata": {
        "colab": {
          "base_uri": "https://localhost:8080/"
        },
        "id": "fPtTLNoVqE9Z",
        "outputId": "fe8923d7-2b80-48cf-ac8f-a59bb0ce719c"
      },
      "execution_count": 56,
      "outputs": [
        {
          "output_type": "stream",
          "name": "stdout",
          "text": [
            "         0         1         2    3    4    5    6    7    8    9   ...   39  \\\n",
            "0 -0.398232 -0.463225 -0.586629  0.0  0.0  1.0  0.0  0.0  0.0  0.0  ...  0.0   \n",
            "1 -0.398232 -0.340325 -0.586629  0.0  1.0  0.0  0.0  0.0  0.0  0.0  ...  0.0   \n",
            "2 -0.679169 -0.463225 -0.586629  1.0  0.0  0.0  0.0  0.0  0.0  0.0  ...  0.0   \n",
            "3 -0.117295 -0.463225 -0.586629  0.0  1.0  0.0  0.0  0.0  0.0  0.0  ...  0.0   \n",
            "4 -1.100574 -0.463225  2.353797  0.0  0.0  0.0  0.0  1.0  0.0  0.0  ...  0.0   \n",
            "\n",
            "    40   41   42   43   44   45   46   47   48  \n",
            "0  0.0  1.0  1.0  0.0  0.0  1.0  0.0  0.0  1.0  \n",
            "1  0.0  1.0  0.0  1.0  0.0  1.0  0.0  0.0  0.0  \n",
            "2  0.0  1.0  1.0  1.0  0.0  1.0  0.0  0.0  1.0  \n",
            "3  0.0  1.0  0.0  1.0  0.0  1.0  0.0  0.0  0.0  \n",
            "4  0.0  0.0  1.0  0.0  0.0  1.0  0.0  1.0  0.0  \n",
            "\n",
            "[5 rows x 49 columns]\n",
            "49\n"
          ]
        }
      ]
    },
    {
      "cell_type": "markdown",
      "source": [
        "## TESTANDO ACURÁCIA DEPOIS DE APLICAR O BORDERLINESMOTE"
      ],
      "metadata": {
        "id": "an_F8PZ0JNtm"
      }
    },
    {
      "cell_type": "code",
      "source": [
        "model = SVC()\n",
        "pipeline = make_pipeline( model)\n",
        "\n",
        "pipeline.fit(x_train, y_train)\n",
        "\n",
        "y_pred = pipeline.predict(x_test)\n",
        "\n",
        "score = classification_report(y_test, y_pred)\n",
        "\n",
        "print(f'{score}')\n",
        "\n"
      ],
      "metadata": {
        "colab": {
          "base_uri": "https://localhost:8080/"
        },
        "id": "iLKubAjsIxlE",
        "outputId": "0a8e7b29-8843-4535-c817-27c23830309a"
      },
      "execution_count": 36,
      "outputs": [
        {
          "output_type": "stream",
          "name": "stdout",
          "text": [
            "              precision    recall  f1-score   support\n",
            "\n",
            "           0       0.91      0.75      0.82      3872\n",
            "           1       0.30      0.58      0.40       718\n",
            "\n",
            "    accuracy                           0.73      4590\n",
            "   macro avg       0.61      0.67      0.61      4590\n",
            "weighted avg       0.81      0.73      0.76      4590\n",
            "\n"
          ]
        }
      ]
    },
    {
      "cell_type": "code",
      "source": [
        "model = SVC(kernel='sigmoid', C=733, gamma= 0.01  )\n",
        "pipeline = make_pipeline( model)\n",
        "\n",
        "pipeline.fit(x_train, y_train)\n",
        "\n",
        "y_pred = pipeline.predict(x_test)\n",
        "\n",
        "score = classification_report(y_test, y_pred)\n",
        "\n",
        "print(f'{score}')"
      ],
      "metadata": {
        "colab": {
          "base_uri": "https://localhost:8080/"
        },
        "id": "leApNdIkMuRC",
        "outputId": "2bf0233a-4684-4f72-da3c-5b35f2b1469e"
      },
      "execution_count": null,
      "outputs": [
        {
          "output_type": "stream",
          "name": "stdout",
          "text": [
            "              precision    recall  f1-score   support\n",
            "\n",
            "           0       0.91      0.67      0.77      3872\n",
            "           1       0.27      0.66      0.38       718\n",
            "\n",
            "    accuracy                           0.67      4590\n",
            "   macro avg       0.59      0.67      0.58      4590\n",
            "weighted avg       0.81      0.67      0.71      4590\n",
            "\n"
          ]
        }
      ]
    },
    {
      "cell_type": "code",
      "source": [
        "y_train.value_counts()"
      ],
      "metadata": {
        "id": "lw4Ve3g_NLz_",
        "colab": {
          "base_uri": "https://localhost:8080/",
          "height": 178
        },
        "outputId": "6bcd8c3b-7a07-4ec0-bba4-39e051cad122"
      },
      "execution_count": 20,
      "outputs": [
        {
          "output_type": "execute_result",
          "data": {
            "text/plain": [
              "Diabetes_binary\n",
              "0    13160\n",
              "1    13160\n",
              "Name: count, dtype: int64"
            ],
            "text/html": [
              "<div>\n",
              "<style scoped>\n",
              "    .dataframe tbody tr th:only-of-type {\n",
              "        vertical-align: middle;\n",
              "    }\n",
              "\n",
              "    .dataframe tbody tr th {\n",
              "        vertical-align: top;\n",
              "    }\n",
              "\n",
              "    .dataframe thead th {\n",
              "        text-align: right;\n",
              "    }\n",
              "</style>\n",
              "<table border=\"1\" class=\"dataframe\">\n",
              "  <thead>\n",
              "    <tr style=\"text-align: right;\">\n",
              "      <th></th>\n",
              "      <th>count</th>\n",
              "    </tr>\n",
              "    <tr>\n",
              "      <th>Diabetes_binary</th>\n",
              "      <th></th>\n",
              "    </tr>\n",
              "  </thead>\n",
              "  <tbody>\n",
              "    <tr>\n",
              "      <th>0</th>\n",
              "      <td>13160</td>\n",
              "    </tr>\n",
              "    <tr>\n",
              "      <th>1</th>\n",
              "      <td>13160</td>\n",
              "    </tr>\n",
              "  </tbody>\n",
              "</table>\n",
              "</div><br><label><b>dtype:</b> int64</label>"
            ]
          },
          "metadata": {},
          "execution_count": 20
        }
      ]
    },
    {
      "cell_type": "code",
      "source": [
        "x_train.shape"
      ],
      "metadata": {
        "colab": {
          "base_uri": "https://localhost:8080/"
        },
        "id": "5-nScMHVLPKa",
        "outputId": "895e8f72-0787-4cc6-e683-592412d70742"
      },
      "execution_count": 21,
      "outputs": [
        {
          "output_type": "execute_result",
          "data": {
            "text/plain": [
              "(26320, 49)"
            ]
          },
          "metadata": {},
          "execution_count": 21
        }
      ]
    },
    {
      "cell_type": "code",
      "source": [
        "y_train.value_counts()"
      ],
      "metadata": {
        "colab": {
          "base_uri": "https://localhost:8080/",
          "height": 178
        },
        "id": "iDkt3fFKQsrV",
        "outputId": "df87c823-ba04-494e-b9fc-488a66a5c5b1"
      },
      "execution_count": 22,
      "outputs": [
        {
          "output_type": "execute_result",
          "data": {
            "text/plain": [
              "Diabetes_binary\n",
              "0    13160\n",
              "1    13160\n",
              "Name: count, dtype: int64"
            ],
            "text/html": [
              "<div>\n",
              "<style scoped>\n",
              "    .dataframe tbody tr th:only-of-type {\n",
              "        vertical-align: middle;\n",
              "    }\n",
              "\n",
              "    .dataframe tbody tr th {\n",
              "        vertical-align: top;\n",
              "    }\n",
              "\n",
              "    .dataframe thead th {\n",
              "        text-align: right;\n",
              "    }\n",
              "</style>\n",
              "<table border=\"1\" class=\"dataframe\">\n",
              "  <thead>\n",
              "    <tr style=\"text-align: right;\">\n",
              "      <th></th>\n",
              "      <th>count</th>\n",
              "    </tr>\n",
              "    <tr>\n",
              "      <th>Diabetes_binary</th>\n",
              "      <th></th>\n",
              "    </tr>\n",
              "  </thead>\n",
              "  <tbody>\n",
              "    <tr>\n",
              "      <th>0</th>\n",
              "      <td>13160</td>\n",
              "    </tr>\n",
              "    <tr>\n",
              "      <th>1</th>\n",
              "      <td>13160</td>\n",
              "    </tr>\n",
              "  </tbody>\n",
              "</table>\n",
              "</div><br><label><b>dtype:</b> int64</label>"
            ]
          },
          "metadata": {},
          "execution_count": 22
        }
      ]
    },
    {
      "cell_type": "markdown",
      "source": [
        "## Testando acurácia antes de aplicar o PCA"
      ],
      "metadata": {
        "id": "cLhmaaTHwTYo"
      }
    },
    {
      "cell_type": "code",
      "source": [
        "column_names = features\n",
        "\n",
        "x_train = pd.DataFrame(x_train)\n",
        "x_test = pd.DataFrame(x_test)\n",
        "x_validation = pd.DataFrame(x_validation)"
      ],
      "metadata": {
        "id": "OBQSZAhIMcaE"
      },
      "execution_count": 57,
      "outputs": []
    },
    {
      "cell_type": "code",
      "source": [
        "# Contar NaNs em cada coluna\n",
        "nan_counts = x_train.isnull().sum()\n",
        "\n",
        "# Mostrar apenas as colunas com NaNs\n",
        "print(nan_counts[nan_counts > 0])\n"
      ],
      "metadata": {
        "colab": {
          "base_uri": "https://localhost:8080/"
        },
        "id": "gqOJ5CUSpgjm",
        "outputId": "5a93d1c9-4b55-42ef-ebbd-57c5a9ca6c53"
      },
      "execution_count": 58,
      "outputs": [
        {
          "output_type": "stream",
          "name": "stdout",
          "text": [
            "Series([], dtype: int64)\n"
          ]
        }
      ]
    },
    {
      "cell_type": "code",
      "source": [
        "model = SVC()\n",
        "pipeline = make_pipeline(model)\n",
        "\n",
        "pipeline.fit(x_train, y_train)\n",
        "\n",
        "y_pred = pipeline.predict(x_test)\n",
        "score = classification_report(y_test, y_pred)\n",
        "\n",
        "   # accuracy = accuracy_score(y_test, y_pred)\n",
        "\n",
        "print(f'Acurácia com PCA ({i} componentes):\\n {score}')"
      ],
      "metadata": {
        "colab": {
          "base_uri": "https://localhost:8080/"
        },
        "outputId": "c33eb719-b067-44ba-b823-e2d66d4a01b7",
        "id": "yBhT_C6xwTYp"
      },
      "execution_count": 42,
      "outputs": [
        {
          "output_type": "stream",
          "name": "stdout",
          "text": [
            "Acurácia com PCA (49 componentes):\n",
            "               precision    recall  f1-score   support\n",
            "\n",
            "           0       0.91      0.75      0.82      3872\n",
            "           1       0.30      0.58      0.40       718\n",
            "\n",
            "    accuracy                           0.73      4590\n",
            "   macro avg       0.61      0.67      0.61      4590\n",
            "weighted avg       0.81      0.73      0.76      4590\n",
            "\n"
          ]
        }
      ]
    },
    {
      "cell_type": "code",
      "source": [
        "for i in range(1, 50):\n",
        "    print(\"==========================================================\")\n",
        "\n",
        "    pca = PCA(n_components=i)\n",
        "\n",
        "    pipeline = make_pipeline(pca, model)\n",
        "\n",
        "    pipeline.fit(x_train, y_train)\n",
        "\n",
        "    y_pred = pipeline.predict(x_test)\n",
        "\n",
        "    score = classification_report(y_test, y_pred)\n",
        "\n",
        "   # accuracy = accuracy_score(y_test, y_pred)\n",
        "\n",
        "    print(f'Acurácia com PCA ({i} componentes): {score}')"
      ],
      "metadata": {
        "colab": {
          "base_uri": "https://localhost:8080/"
        },
        "outputId": "f66b4f7d-d8d1-4993-f20f-7df761ebaff9",
        "id": "yaFNWlJwwTYp"
      },
      "execution_count": 40,
      "outputs": [
        {
          "output_type": "stream",
          "name": "stdout",
          "text": [
            "==========================================================\n",
            "Acurácia com PCA (1 componentes):               precision    recall  f1-score   support\n",
            "\n",
            "           0       0.91      0.63      0.75      3872\n",
            "           1       0.26      0.68      0.37       718\n",
            "\n",
            "    accuracy                           0.64      4590\n",
            "   macro avg       0.59      0.66      0.56      4590\n",
            "weighted avg       0.81      0.64      0.69      4590\n",
            "\n",
            "==========================================================\n",
            "Acurácia com PCA (2 componentes):               precision    recall  f1-score   support\n",
            "\n",
            "           0       0.92      0.65      0.76      3872\n",
            "           1       0.27      0.69      0.38       718\n",
            "\n",
            "    accuracy                           0.65      4590\n",
            "   macro avg       0.59      0.67      0.57      4590\n",
            "weighted avg       0.82      0.65      0.70      4590\n",
            "\n",
            "==========================================================\n",
            "Acurácia com PCA (3 componentes):               precision    recall  f1-score   support\n",
            "\n",
            "           0       0.93      0.65      0.77      3872\n",
            "           1       0.29      0.75      0.42       718\n",
            "\n",
            "    accuracy                           0.67      4590\n",
            "   macro avg       0.61      0.70      0.59      4590\n",
            "weighted avg       0.83      0.67      0.71      4590\n",
            "\n",
            "==========================================================\n",
            "Acurácia com PCA (4 componentes):               precision    recall  f1-score   support\n",
            "\n",
            "           0       0.93      0.67      0.78      3872\n",
            "           1       0.29      0.73      0.42       718\n",
            "\n",
            "    accuracy                           0.68      4590\n",
            "   macro avg       0.61      0.70      0.60      4590\n",
            "weighted avg       0.83      0.68      0.72      4590\n",
            "\n",
            "==========================================================\n",
            "Acurácia com PCA (5 componentes):               precision    recall  f1-score   support\n",
            "\n",
            "           0       0.93      0.68      0.78      3872\n",
            "           1       0.29      0.72      0.42       718\n",
            "\n",
            "    accuracy                           0.68      4590\n",
            "   macro avg       0.61      0.70      0.60      4590\n",
            "weighted avg       0.83      0.68      0.73      4590\n",
            "\n",
            "==========================================================\n",
            "Acurácia com PCA (6 componentes):               precision    recall  f1-score   support\n",
            "\n",
            "           0       0.92      0.68      0.78      3872\n",
            "           1       0.29      0.70      0.41       718\n",
            "\n",
            "    accuracy                           0.68      4590\n",
            "   macro avg       0.61      0.69      0.59      4590\n",
            "weighted avg       0.83      0.68      0.72      4590\n",
            "\n",
            "==========================================================\n",
            "Acurácia com PCA (7 componentes):               precision    recall  f1-score   support\n",
            "\n",
            "           0       0.92      0.69      0.79      3872\n",
            "           1       0.29      0.69      0.41       718\n",
            "\n",
            "    accuracy                           0.69      4590\n",
            "   macro avg       0.61      0.69      0.60      4590\n",
            "weighted avg       0.82      0.69      0.73      4590\n",
            "\n",
            "==========================================================\n",
            "Acurácia com PCA (8 componentes):               precision    recall  f1-score   support\n",
            "\n",
            "           0       0.92      0.69      0.79      3872\n",
            "           1       0.29      0.69      0.41       718\n",
            "\n",
            "    accuracy                           0.69      4590\n",
            "   macro avg       0.61      0.69      0.60      4590\n",
            "weighted avg       0.82      0.69      0.73      4590\n",
            "\n",
            "==========================================================\n",
            "Acurácia com PCA (9 componentes):               precision    recall  f1-score   support\n",
            "\n",
            "           0       0.91      0.70      0.80      3872\n",
            "           1       0.29      0.64      0.40       718\n",
            "\n",
            "    accuracy                           0.69      4590\n",
            "   macro avg       0.60      0.67      0.60      4590\n",
            "weighted avg       0.82      0.69      0.73      4590\n",
            "\n",
            "==========================================================\n",
            "Acurácia com PCA (10 componentes):               precision    recall  f1-score   support\n",
            "\n",
            "           0       0.91      0.70      0.79      3872\n",
            "           1       0.28      0.64      0.39       718\n",
            "\n",
            "    accuracy                           0.69      4590\n",
            "   macro avg       0.60      0.67      0.59      4590\n",
            "weighted avg       0.81      0.69      0.73      4590\n",
            "\n",
            "==========================================================\n",
            "Acurácia com PCA (11 componentes):               precision    recall  f1-score   support\n",
            "\n",
            "           0       0.91      0.71      0.80      3872\n",
            "           1       0.29      0.64      0.40       718\n",
            "\n",
            "    accuracy                           0.70      4590\n",
            "   macro avg       0.60      0.68      0.60      4590\n",
            "weighted avg       0.82      0.70      0.74      4590\n",
            "\n",
            "==========================================================\n",
            "Acurácia com PCA (12 componentes):               precision    recall  f1-score   support\n",
            "\n",
            "           0       0.91      0.71      0.80      3872\n",
            "           1       0.29      0.64      0.40       718\n",
            "\n",
            "    accuracy                           0.70      4590\n",
            "   macro avg       0.60      0.67      0.60      4590\n",
            "weighted avg       0.82      0.70      0.74      4590\n",
            "\n",
            "==========================================================\n",
            "Acurácia com PCA (13 componentes):               precision    recall  f1-score   support\n",
            "\n",
            "           0       0.91      0.71      0.80      3872\n",
            "           1       0.29      0.63      0.40       718\n",
            "\n",
            "    accuracy                           0.70      4590\n",
            "   macro avg       0.60      0.67      0.60      4590\n",
            "weighted avg       0.82      0.70      0.74      4590\n",
            "\n",
            "==========================================================\n",
            "Acurácia com PCA (14 componentes):               precision    recall  f1-score   support\n",
            "\n",
            "           0       0.91      0.72      0.80      3872\n",
            "           1       0.29      0.61      0.39       718\n",
            "\n",
            "    accuracy                           0.70      4590\n",
            "   macro avg       0.60      0.66      0.60      4590\n",
            "weighted avg       0.81      0.70      0.74      4590\n",
            "\n",
            "==========================================================\n",
            "Acurácia com PCA (15 componentes):               precision    recall  f1-score   support\n",
            "\n",
            "           0       0.90      0.72      0.80      3872\n",
            "           1       0.28      0.59      0.38       718\n",
            "\n",
            "    accuracy                           0.70      4590\n",
            "   macro avg       0.59      0.66      0.59      4590\n",
            "weighted avg       0.81      0.70      0.74      4590\n",
            "\n",
            "==========================================================\n",
            "Acurácia com PCA (16 componentes):               precision    recall  f1-score   support\n",
            "\n",
            "           0       0.90      0.73      0.81      3872\n",
            "           1       0.29      0.58      0.39       718\n",
            "\n",
            "    accuracy                           0.71      4590\n",
            "   macro avg       0.60      0.66      0.60      4590\n",
            "weighted avg       0.81      0.71      0.74      4590\n",
            "\n",
            "==========================================================\n",
            "Acurácia com PCA (17 componentes):               precision    recall  f1-score   support\n",
            "\n",
            "           0       0.90      0.74      0.81      3872\n",
            "           1       0.29      0.57      0.38       718\n",
            "\n",
            "    accuracy                           0.71      4590\n",
            "   macro avg       0.60      0.65      0.60      4590\n",
            "weighted avg       0.81      0.71      0.74      4590\n",
            "\n",
            "==========================================================\n",
            "Acurácia com PCA (18 componentes):               precision    recall  f1-score   support\n",
            "\n",
            "           0       0.90      0.73      0.81      3872\n",
            "           1       0.28      0.57      0.38       718\n",
            "\n",
            "    accuracy                           0.71      4590\n",
            "   macro avg       0.59      0.65      0.59      4590\n",
            "weighted avg       0.81      0.71      0.74      4590\n",
            "\n",
            "==========================================================\n",
            "Acurácia com PCA (19 componentes):               precision    recall  f1-score   support\n",
            "\n",
            "           0       0.90      0.74      0.81      3872\n",
            "           1       0.29      0.57      0.38       718\n",
            "\n",
            "    accuracy                           0.71      4590\n",
            "   macro avg       0.59      0.65      0.60      4590\n",
            "weighted avg       0.81      0.71      0.75      4590\n",
            "\n",
            "==========================================================\n",
            "Acurácia com PCA (20 componentes):               precision    recall  f1-score   support\n",
            "\n",
            "           0       0.90      0.74      0.82      3872\n",
            "           1       0.29      0.57      0.39       718\n",
            "\n",
            "    accuracy                           0.72      4590\n",
            "   macro avg       0.60      0.66      0.60      4590\n",
            "weighted avg       0.81      0.72      0.75      4590\n",
            "\n",
            "==========================================================\n",
            "Acurácia com PCA (21 componentes):               precision    recall  f1-score   support\n",
            "\n",
            "           0       0.90      0.75      0.82      3872\n",
            "           1       0.30      0.57      0.39       718\n",
            "\n",
            "    accuracy                           0.72      4590\n",
            "   macro avg       0.60      0.66      0.60      4590\n",
            "weighted avg       0.81      0.72      0.75      4590\n",
            "\n",
            "==========================================================\n",
            "Acurácia com PCA (22 componentes):               precision    recall  f1-score   support\n",
            "\n",
            "           0       0.90      0.74      0.82      3872\n",
            "           1       0.29      0.57      0.39       718\n",
            "\n",
            "    accuracy                           0.72      4590\n",
            "   macro avg       0.60      0.66      0.60      4590\n",
            "weighted avg       0.81      0.72      0.75      4590\n",
            "\n",
            "==========================================================\n",
            "Acurácia com PCA (23 componentes):               precision    recall  f1-score   support\n",
            "\n",
            "           0       0.91      0.75      0.82      3872\n",
            "           1       0.30      0.58      0.39       718\n",
            "\n",
            "    accuracy                           0.72      4590\n",
            "   macro avg       0.60      0.66      0.61      4590\n",
            "weighted avg       0.81      0.72      0.75      4590\n",
            "\n",
            "==========================================================\n",
            "Acurácia com PCA (24 componentes):               precision    recall  f1-score   support\n",
            "\n",
            "           0       0.90      0.75      0.82      3872\n",
            "           1       0.30      0.57      0.39       718\n",
            "\n",
            "    accuracy                           0.72      4590\n",
            "   macro avg       0.60      0.66      0.61      4590\n",
            "weighted avg       0.81      0.72      0.75      4590\n",
            "\n",
            "==========================================================\n",
            "Acurácia com PCA (25 componentes):               precision    recall  f1-score   support\n",
            "\n",
            "           0       0.91      0.75      0.82      3872\n",
            "           1       0.30      0.58      0.40       718\n",
            "\n",
            "    accuracy                           0.72      4590\n",
            "   macro avg       0.60      0.66      0.61      4590\n",
            "weighted avg       0.81      0.72      0.76      4590\n",
            "\n",
            "==========================================================\n",
            "Acurácia com PCA (26 componentes):               precision    recall  f1-score   support\n",
            "\n",
            "           0       0.90      0.76      0.82      3872\n",
            "           1       0.30      0.57      0.40       718\n",
            "\n",
            "    accuracy                           0.73      4590\n",
            "   macro avg       0.60      0.66      0.61      4590\n",
            "weighted avg       0.81      0.73      0.76      4590\n",
            "\n",
            "==========================================================\n",
            "Acurácia com PCA (27 componentes):               precision    recall  f1-score   support\n",
            "\n",
            "           0       0.90      0.76      0.82      3872\n",
            "           1       0.30      0.56      0.39       718\n",
            "\n",
            "    accuracy                           0.73      4590\n",
            "   macro avg       0.60      0.66      0.61      4590\n",
            "weighted avg       0.81      0.73      0.76      4590\n",
            "\n",
            "==========================================================\n",
            "Acurácia com PCA (28 componentes):               precision    recall  f1-score   support\n",
            "\n",
            "           0       0.90      0.76      0.83      3872\n",
            "           1       0.31      0.57      0.40       718\n",
            "\n",
            "    accuracy                           0.73      4590\n",
            "   macro avg       0.61      0.66      0.61      4590\n",
            "weighted avg       0.81      0.73      0.76      4590\n",
            "\n",
            "==========================================================\n",
            "Acurácia com PCA (29 componentes):               precision    recall  f1-score   support\n",
            "\n",
            "           0       0.90      0.76      0.83      3872\n",
            "           1       0.31      0.56      0.40       718\n",
            "\n",
            "    accuracy                           0.73      4590\n",
            "   macro avg       0.61      0.66      0.61      4590\n",
            "weighted avg       0.81      0.73      0.76      4590\n",
            "\n",
            "==========================================================\n",
            "Acurácia com PCA (30 componentes):               precision    recall  f1-score   support\n",
            "\n",
            "           0       0.91      0.76      0.83      3872\n",
            "           1       0.31      0.57      0.40       718\n",
            "\n",
            "    accuracy                           0.73      4590\n",
            "   macro avg       0.61      0.67      0.61      4590\n",
            "weighted avg       0.81      0.73      0.76      4590\n",
            "\n",
            "==========================================================\n",
            "Acurácia com PCA (31 componentes):               precision    recall  f1-score   support\n",
            "\n",
            "           0       0.90      0.76      0.83      3872\n",
            "           1       0.31      0.56      0.40       718\n",
            "\n",
            "    accuracy                           0.73      4590\n",
            "   macro avg       0.60      0.66      0.61      4590\n",
            "weighted avg       0.81      0.73      0.76      4590\n",
            "\n",
            "==========================================================\n",
            "Acurácia com PCA (32 componentes):               precision    recall  f1-score   support\n",
            "\n",
            "           0       0.90      0.76      0.83      3872\n",
            "           1       0.30      0.55      0.39       718\n",
            "\n",
            "    accuracy                           0.73      4590\n",
            "   macro avg       0.60      0.66      0.61      4590\n",
            "weighted avg       0.81      0.73      0.76      4590\n",
            "\n",
            "==========================================================\n",
            "Acurácia com PCA (33 componentes):               precision    recall  f1-score   support\n",
            "\n",
            "           0       0.90      0.76      0.83      3872\n",
            "           1       0.30      0.56      0.39       718\n",
            "\n",
            "    accuracy                           0.73      4590\n",
            "   macro avg       0.60      0.66      0.61      4590\n",
            "weighted avg       0.81      0.73      0.76      4590\n",
            "\n",
            "==========================================================\n",
            "Acurácia com PCA (34 componentes):               precision    recall  f1-score   support\n",
            "\n",
            "           0       0.90      0.76      0.83      3872\n",
            "           1       0.30      0.55      0.39       718\n",
            "\n",
            "    accuracy                           0.73      4590\n",
            "   macro avg       0.60      0.66      0.61      4590\n",
            "weighted avg       0.81      0.73      0.76      4590\n",
            "\n",
            "==========================================================\n",
            "Acurácia com PCA (35 componentes):               precision    recall  f1-score   support\n",
            "\n",
            "           0       0.90      0.76      0.83      3872\n",
            "           1       0.30      0.56      0.39       718\n",
            "\n",
            "    accuracy                           0.73      4590\n",
            "   macro avg       0.60      0.66      0.61      4590\n",
            "weighted avg       0.81      0.73      0.76      4590\n",
            "\n",
            "==========================================================\n",
            "Acurácia com PCA (36 componentes):               precision    recall  f1-score   support\n",
            "\n",
            "           0       0.90      0.77      0.83      3872\n",
            "           1       0.31      0.56      0.40       718\n",
            "\n",
            "    accuracy                           0.73      4590\n",
            "   macro avg       0.61      0.66      0.61      4590\n",
            "weighted avg       0.81      0.73      0.76      4590\n",
            "\n",
            "==========================================================\n",
            "Acurácia com PCA (37 componentes):               precision    recall  f1-score   support\n",
            "\n",
            "           0       0.90      0.77      0.83      3872\n",
            "           1       0.31      0.57      0.40       718\n",
            "\n",
            "    accuracy                           0.74      4590\n",
            "   macro avg       0.61      0.67      0.62      4590\n",
            "weighted avg       0.81      0.74      0.76      4590\n",
            "\n",
            "==========================================================\n",
            "Acurácia com PCA (38 componentes):               precision    recall  f1-score   support\n",
            "\n",
            "           0       0.91      0.76      0.83      3872\n",
            "           1       0.31      0.57      0.40       718\n",
            "\n",
            "    accuracy                           0.73      4590\n",
            "   macro avg       0.61      0.67      0.61      4590\n",
            "weighted avg       0.81      0.73      0.76      4590\n",
            "\n",
            "==========================================================\n",
            "Acurácia com PCA (39 componentes):               precision    recall  f1-score   support\n",
            "\n",
            "           0       0.90      0.76      0.83      3872\n",
            "           1       0.31      0.56      0.40       718\n",
            "\n",
            "    accuracy                           0.73      4590\n",
            "   macro avg       0.61      0.66      0.61      4590\n",
            "weighted avg       0.81      0.73      0.76      4590\n",
            "\n",
            "==========================================================\n",
            "Acurácia com PCA (40 componentes):               precision    recall  f1-score   support\n",
            "\n",
            "           0       0.90      0.76      0.83      3872\n",
            "           1       0.31      0.56      0.40       718\n",
            "\n",
            "    accuracy                           0.73      4590\n",
            "   macro avg       0.61      0.66      0.61      4590\n",
            "weighted avg       0.81      0.73      0.76      4590\n",
            "\n",
            "==========================================================\n",
            "Acurácia com PCA (41 componentes):               precision    recall  f1-score   support\n",
            "\n",
            "           0       0.90      0.76      0.83      3872\n",
            "           1       0.31      0.56      0.40       718\n",
            "\n",
            "    accuracy                           0.73      4590\n",
            "   macro avg       0.61      0.66      0.61      4590\n",
            "weighted avg       0.81      0.73      0.76      4590\n",
            "\n",
            "==========================================================\n",
            "Acurácia com PCA (42 componentes):               precision    recall  f1-score   support\n",
            "\n",
            "           0       0.90      0.76      0.83      3872\n",
            "           1       0.31      0.56      0.40       718\n",
            "\n",
            "    accuracy                           0.73      4590\n",
            "   macro avg       0.60      0.66      0.61      4590\n",
            "weighted avg       0.81      0.73      0.76      4590\n",
            "\n",
            "==========================================================\n",
            "Acurácia com PCA (43 componentes):               precision    recall  f1-score   support\n",
            "\n",
            "           0       0.90      0.76      0.83      3872\n",
            "           1       0.31      0.56      0.40       718\n",
            "\n",
            "    accuracy                           0.73      4590\n",
            "   macro avg       0.60      0.66      0.61      4590\n",
            "weighted avg       0.81      0.73      0.76      4590\n",
            "\n",
            "==========================================================\n",
            "Acurácia com PCA (44 componentes):               precision    recall  f1-score   support\n",
            "\n",
            "           0       0.90      0.76      0.83      3872\n",
            "           1       0.30      0.56      0.39       718\n",
            "\n",
            "    accuracy                           0.73      4590\n",
            "   macro avg       0.60      0.66      0.61      4590\n",
            "weighted avg       0.81      0.73      0.76      4590\n",
            "\n",
            "==========================================================\n",
            "Acurácia com PCA (45 componentes):               precision    recall  f1-score   support\n",
            "\n",
            "           0       0.90      0.76      0.83      3872\n",
            "           1       0.30      0.56      0.39       718\n",
            "\n",
            "    accuracy                           0.73      4590\n",
            "   macro avg       0.60      0.66      0.61      4590\n",
            "weighted avg       0.81      0.73      0.76      4590\n",
            "\n",
            "==========================================================\n",
            "Acurácia com PCA (46 componentes):               precision    recall  f1-score   support\n",
            "\n",
            "           0       0.90      0.76      0.83      3872\n",
            "           1       0.30      0.56      0.39       718\n",
            "\n",
            "    accuracy                           0.73      4590\n",
            "   macro avg       0.60      0.66      0.61      4590\n",
            "weighted avg       0.81      0.73      0.76      4590\n",
            "\n",
            "==========================================================\n",
            "Acurácia com PCA (47 componentes):               precision    recall  f1-score   support\n",
            "\n",
            "           0       0.90      0.76      0.83      3872\n",
            "           1       0.30      0.56      0.39       718\n",
            "\n",
            "    accuracy                           0.73      4590\n",
            "   macro avg       0.60      0.66      0.61      4590\n",
            "weighted avg       0.81      0.73      0.76      4590\n",
            "\n",
            "==========================================================\n",
            "Acurácia com PCA (48 componentes):               precision    recall  f1-score   support\n",
            "\n",
            "           0       0.90      0.76      0.83      3872\n",
            "           1       0.30      0.56      0.39       718\n",
            "\n",
            "    accuracy                           0.73      4590\n",
            "   macro avg       0.60      0.66      0.61      4590\n",
            "weighted avg       0.81      0.73      0.76      4590\n",
            "\n",
            "==========================================================\n",
            "Acurácia com PCA (49 componentes):               precision    recall  f1-score   support\n",
            "\n",
            "           0       0.90      0.76      0.83      3872\n",
            "           1       0.30      0.56      0.39       718\n",
            "\n",
            "    accuracy                           0.73      4590\n",
            "   macro avg       0.60      0.66      0.61      4590\n",
            "weighted avg       0.81      0.73      0.76      4590\n",
            "\n"
          ]
        }
      ]
    },
    {
      "cell_type": "code",
      "source": [
        "def objective(trial):\n",
        "    pipeline = Pipeline([\n",
        "        ('preprocessor', preprocessor_svm),\n",
        "        ('svm', SVC())\n",
        "    ])\n",
        "\n",
        "    C = trial.suggest_float('C', 1.0, 1000.0, log=True)  # C em escala logarítmica\n",
        "    gamma = trial.suggest_float('gamma', 0.01, 2.0, step=0.005)  # Gamma\n",
        "    kernel = trial.suggest_categorical('kernel', ['rbf', 'poly', 'sigmoid'])  # Kernel\n",
        "\n",
        "    # Pipeline\n",
        "    pipeline = Pipeline([\n",
        "        ('preprocessor', preprocessor_svm),\n",
        "        ('svm', SVC())\n",
        "    ])\n",
        "    pipeline.set_params(svm__C=C, svm__gamma=gamma, svm__kernel=kernel)\n",
        "\n",
        "    # Treinamento e predição\n",
        "    pipeline.fit(x_train, y_train)\n",
        "    y_pred = pipeline.predict(x_validation)\n",
        "\n",
        "    # Métrica de avaliação\n",
        "    score = f1_score(y_validation, y_pred)\n",
        "    return score\n",
        "\n",
        "\n",
        "# Criação do estudo e execução\n",
        "study = optuna.create_study(direction='maximize')\n",
        "study.optimize(objective, n_trials=50)  # Alterar n_trials conforme necessário\n",
        "\n",
        "# Exibição dos melhores parâmetros\n",
        "print(\"Melhores parâmetros:\", study.best_params)"
      ],
      "metadata": {
        "id": "EZUjQM54EcWf",
        "colab": {
          "base_uri": "https://localhost:8080/",
          "height": 1000
        },
        "outputId": "c78371b7-5df0-4dc5-82e1-790163c5b83b"
      },
      "execution_count": 63,
      "outputs": [
        {
          "output_type": "stream",
          "name": "stderr",
          "text": [
            "[I 2024-11-25 02:59:21,517] A new study created in memory with name: no-name-d67c0734-ea9f-4212-8ca1-1742243a81c9\n",
            "[W 2024-11-25 02:59:21,523] Trial 0 failed with parameters: {'C': 25.324802705132846, 'gamma': 0.9400000000000001, 'kernel': 'poly'} because of the following error: ValueError('A given column is not a column of the dataframe').\n",
            "Traceback (most recent call last):\n",
            "  File \"/usr/local/lib/python3.10/dist-packages/sklearn/utils/_indexing.py\", line 361, in _get_column_indices\n",
            "    col_idx = all_columns.get_loc(col)\n",
            "  File \"/usr/local/lib/python3.10/dist-packages/pandas/core/indexes/range.py\", line 417, in get_loc\n",
            "    raise KeyError(key)\n",
            "KeyError: 'BMI'\n",
            "\n",
            "The above exception was the direct cause of the following exception:\n",
            "\n",
            "Traceback (most recent call last):\n",
            "  File \"/usr/local/lib/python3.10/dist-packages/optuna/study/_optimize.py\", line 197, in _run_trial\n",
            "    value_or_values = func(trial)\n",
            "  File \"<ipython-input-63-04ed8b87d276>\", line 15, in objective\n",
            "    pipeline.fit(x_train, y_train)\n",
            "  File \"/usr/local/lib/python3.10/dist-packages/sklearn/base.py\", line 1473, in wrapper\n",
            "    return fit_method(estimator, *args, **kwargs)\n",
            "  File \"/usr/local/lib/python3.10/dist-packages/sklearn/pipeline.py\", line 469, in fit\n",
            "    Xt = self._fit(X, y, routed_params)\n",
            "  File \"/usr/local/lib/python3.10/dist-packages/sklearn/pipeline.py\", line 406, in _fit\n",
            "    X, fitted_transformer = fit_transform_one_cached(\n",
            "  File \"/usr/local/lib/python3.10/dist-packages/joblib/memory.py\", line 312, in __call__\n",
            "    return self.func(*args, **kwargs)\n",
            "  File \"/usr/local/lib/python3.10/dist-packages/sklearn/pipeline.py\", line 1310, in _fit_transform_one\n",
            "    res = transformer.fit_transform(X, y, **params.get(\"fit_transform\", {}))\n",
            "  File \"/usr/local/lib/python3.10/dist-packages/sklearn/utils/_set_output.py\", line 316, in wrapped\n",
            "    data_to_wrap = f(self, X, *args, **kwargs)\n",
            "  File \"/usr/local/lib/python3.10/dist-packages/sklearn/base.py\", line 1473, in wrapper\n",
            "    return fit_method(estimator, *args, **kwargs)\n",
            "  File \"/usr/local/lib/python3.10/dist-packages/sklearn/compose/_column_transformer.py\", line 968, in fit_transform\n",
            "    self._validate_column_callables(X)\n",
            "  File \"/usr/local/lib/python3.10/dist-packages/sklearn/compose/_column_transformer.py\", line 536, in _validate_column_callables\n",
            "    transformer_to_input_indices[name] = _get_column_indices(X, columns)\n",
            "  File \"/usr/local/lib/python3.10/dist-packages/sklearn/utils/_indexing.py\", line 369, in _get_column_indices\n",
            "    raise ValueError(\"A given column is not a column of the dataframe\") from e\n",
            "ValueError: A given column is not a column of the dataframe\n",
            "[W 2024-11-25 02:59:21,531] Trial 0 failed with value None.\n"
          ]
        },
        {
          "output_type": "error",
          "ename": "ValueError",
          "evalue": "A given column is not a column of the dataframe",
          "traceback": [
            "\u001b[0;31m---------------------------------------------------------------------------\u001b[0m",
            "\u001b[0;31mKeyError\u001b[0m                                  Traceback (most recent call last)",
            "\u001b[0;32m/usr/local/lib/python3.10/dist-packages/sklearn/utils/_indexing.py\u001b[0m in \u001b[0;36m_get_column_indices\u001b[0;34m(X, key)\u001b[0m\n\u001b[1;32m    360\u001b[0m             \u001b[0;32mfor\u001b[0m \u001b[0mcol\u001b[0m \u001b[0;32min\u001b[0m \u001b[0mcolumns\u001b[0m\u001b[0;34m:\u001b[0m\u001b[0;34m\u001b[0m\u001b[0;34m\u001b[0m\u001b[0m\n\u001b[0;32m--> 361\u001b[0;31m                 \u001b[0mcol_idx\u001b[0m \u001b[0;34m=\u001b[0m \u001b[0mall_columns\u001b[0m\u001b[0;34m.\u001b[0m\u001b[0mget_loc\u001b[0m\u001b[0;34m(\u001b[0m\u001b[0mcol\u001b[0m\u001b[0;34m)\u001b[0m\u001b[0;34m\u001b[0m\u001b[0;34m\u001b[0m\u001b[0m\n\u001b[0m\u001b[1;32m    362\u001b[0m                 \u001b[0;32mif\u001b[0m \u001b[0;32mnot\u001b[0m \u001b[0misinstance\u001b[0m\u001b[0;34m(\u001b[0m\u001b[0mcol_idx\u001b[0m\u001b[0;34m,\u001b[0m \u001b[0mnumbers\u001b[0m\u001b[0;34m.\u001b[0m\u001b[0mIntegral\u001b[0m\u001b[0;34m)\u001b[0m\u001b[0;34m:\u001b[0m\u001b[0;34m\u001b[0m\u001b[0;34m\u001b[0m\u001b[0m\n",
            "\u001b[0;32m/usr/local/lib/python3.10/dist-packages/pandas/core/indexes/range.py\u001b[0m in \u001b[0;36mget_loc\u001b[0;34m(self, key)\u001b[0m\n\u001b[1;32m    416\u001b[0m         \u001b[0;32mif\u001b[0m \u001b[0misinstance\u001b[0m\u001b[0;34m(\u001b[0m\u001b[0mkey\u001b[0m\u001b[0;34m,\u001b[0m \u001b[0mHashable\u001b[0m\u001b[0;34m)\u001b[0m\u001b[0;34m:\u001b[0m\u001b[0;34m\u001b[0m\u001b[0;34m\u001b[0m\u001b[0m\n\u001b[0;32m--> 417\u001b[0;31m             \u001b[0;32mraise\u001b[0m \u001b[0mKeyError\u001b[0m\u001b[0;34m(\u001b[0m\u001b[0mkey\u001b[0m\u001b[0;34m)\u001b[0m\u001b[0;34m\u001b[0m\u001b[0;34m\u001b[0m\u001b[0m\n\u001b[0m\u001b[1;32m    418\u001b[0m         \u001b[0mself\u001b[0m\u001b[0;34m.\u001b[0m\u001b[0m_check_indexing_error\u001b[0m\u001b[0;34m(\u001b[0m\u001b[0mkey\u001b[0m\u001b[0;34m)\u001b[0m\u001b[0;34m\u001b[0m\u001b[0;34m\u001b[0m\u001b[0m\n",
            "\u001b[0;31mKeyError\u001b[0m: 'BMI'",
            "\nThe above exception was the direct cause of the following exception:\n",
            "\u001b[0;31mValueError\u001b[0m                                Traceback (most recent call last)",
            "\u001b[0;32m<ipython-input-63-04ed8b87d276>\u001b[0m in \u001b[0;36m<cell line: 25>\u001b[0;34m()\u001b[0m\n\u001b[1;32m     23\u001b[0m \u001b[0;31m# Criação do estudo e execução\u001b[0m\u001b[0;34m\u001b[0m\u001b[0;34m\u001b[0m\u001b[0m\n\u001b[1;32m     24\u001b[0m \u001b[0mstudy\u001b[0m \u001b[0;34m=\u001b[0m \u001b[0moptuna\u001b[0m\u001b[0;34m.\u001b[0m\u001b[0mcreate_study\u001b[0m\u001b[0;34m(\u001b[0m\u001b[0mdirection\u001b[0m\u001b[0;34m=\u001b[0m\u001b[0;34m'maximize'\u001b[0m\u001b[0;34m)\u001b[0m\u001b[0;34m\u001b[0m\u001b[0;34m\u001b[0m\u001b[0m\n\u001b[0;32m---> 25\u001b[0;31m \u001b[0mstudy\u001b[0m\u001b[0;34m.\u001b[0m\u001b[0moptimize\u001b[0m\u001b[0;34m(\u001b[0m\u001b[0mobjective\u001b[0m\u001b[0;34m,\u001b[0m \u001b[0mn_trials\u001b[0m\u001b[0;34m=\u001b[0m\u001b[0;36m50\u001b[0m\u001b[0;34m)\u001b[0m  \u001b[0;31m# Alterar n_trials conforme necessário\u001b[0m\u001b[0;34m\u001b[0m\u001b[0;34m\u001b[0m\u001b[0m\n\u001b[0m\u001b[1;32m     26\u001b[0m \u001b[0;34m\u001b[0m\u001b[0m\n\u001b[1;32m     27\u001b[0m \u001b[0;31m# Exibição dos melhores parâmetros\u001b[0m\u001b[0;34m\u001b[0m\u001b[0;34m\u001b[0m\u001b[0m\n",
            "\u001b[0;32m/usr/local/lib/python3.10/dist-packages/optuna/study/study.py\u001b[0m in \u001b[0;36moptimize\u001b[0;34m(self, func, n_trials, timeout, n_jobs, catch, callbacks, gc_after_trial, show_progress_bar)\u001b[0m\n\u001b[1;32m    473\u001b[0m                 \u001b[0mIf\u001b[0m \u001b[0mnested\u001b[0m \u001b[0minvocation\u001b[0m \u001b[0mof\u001b[0m \u001b[0mthis\u001b[0m \u001b[0mmethod\u001b[0m \u001b[0moccurs\u001b[0m\u001b[0;34m.\u001b[0m\u001b[0;34m\u001b[0m\u001b[0;34m\u001b[0m\u001b[0m\n\u001b[1;32m    474\u001b[0m         \"\"\"\n\u001b[0;32m--> 475\u001b[0;31m         _optimize(\n\u001b[0m\u001b[1;32m    476\u001b[0m             \u001b[0mstudy\u001b[0m\u001b[0;34m=\u001b[0m\u001b[0mself\u001b[0m\u001b[0;34m,\u001b[0m\u001b[0;34m\u001b[0m\u001b[0;34m\u001b[0m\u001b[0m\n\u001b[1;32m    477\u001b[0m             \u001b[0mfunc\u001b[0m\u001b[0;34m=\u001b[0m\u001b[0mfunc\u001b[0m\u001b[0;34m,\u001b[0m\u001b[0;34m\u001b[0m\u001b[0;34m\u001b[0m\u001b[0m\n",
            "\u001b[0;32m/usr/local/lib/python3.10/dist-packages/optuna/study/_optimize.py\u001b[0m in \u001b[0;36m_optimize\u001b[0;34m(study, func, n_trials, timeout, n_jobs, catch, callbacks, gc_after_trial, show_progress_bar)\u001b[0m\n\u001b[1;32m     61\u001b[0m     \u001b[0;32mtry\u001b[0m\u001b[0;34m:\u001b[0m\u001b[0;34m\u001b[0m\u001b[0;34m\u001b[0m\u001b[0m\n\u001b[1;32m     62\u001b[0m         \u001b[0;32mif\u001b[0m \u001b[0mn_jobs\u001b[0m \u001b[0;34m==\u001b[0m \u001b[0;36m1\u001b[0m\u001b[0;34m:\u001b[0m\u001b[0;34m\u001b[0m\u001b[0;34m\u001b[0m\u001b[0m\n\u001b[0;32m---> 63\u001b[0;31m             _optimize_sequential(\n\u001b[0m\u001b[1;32m     64\u001b[0m                 \u001b[0mstudy\u001b[0m\u001b[0;34m,\u001b[0m\u001b[0;34m\u001b[0m\u001b[0;34m\u001b[0m\u001b[0m\n\u001b[1;32m     65\u001b[0m                 \u001b[0mfunc\u001b[0m\u001b[0;34m,\u001b[0m\u001b[0;34m\u001b[0m\u001b[0;34m\u001b[0m\u001b[0m\n",
            "\u001b[0;32m/usr/local/lib/python3.10/dist-packages/optuna/study/_optimize.py\u001b[0m in \u001b[0;36m_optimize_sequential\u001b[0;34m(study, func, n_trials, timeout, catch, callbacks, gc_after_trial, reseed_sampler_rng, time_start, progress_bar)\u001b[0m\n\u001b[1;32m    158\u001b[0m \u001b[0;34m\u001b[0m\u001b[0m\n\u001b[1;32m    159\u001b[0m         \u001b[0;32mtry\u001b[0m\u001b[0;34m:\u001b[0m\u001b[0;34m\u001b[0m\u001b[0;34m\u001b[0m\u001b[0m\n\u001b[0;32m--> 160\u001b[0;31m             \u001b[0mfrozen_trial\u001b[0m \u001b[0;34m=\u001b[0m \u001b[0m_run_trial\u001b[0m\u001b[0;34m(\u001b[0m\u001b[0mstudy\u001b[0m\u001b[0;34m,\u001b[0m \u001b[0mfunc\u001b[0m\u001b[0;34m,\u001b[0m \u001b[0mcatch\u001b[0m\u001b[0;34m)\u001b[0m\u001b[0;34m\u001b[0m\u001b[0;34m\u001b[0m\u001b[0m\n\u001b[0m\u001b[1;32m    161\u001b[0m         \u001b[0;32mfinally\u001b[0m\u001b[0;34m:\u001b[0m\u001b[0;34m\u001b[0m\u001b[0;34m\u001b[0m\u001b[0m\n\u001b[1;32m    162\u001b[0m             \u001b[0;31m# The following line mitigates memory problems that can be occurred in some\u001b[0m\u001b[0;34m\u001b[0m\u001b[0;34m\u001b[0m\u001b[0m\n",
            "\u001b[0;32m/usr/local/lib/python3.10/dist-packages/optuna/study/_optimize.py\u001b[0m in \u001b[0;36m_run_trial\u001b[0;34m(study, func, catch)\u001b[0m\n\u001b[1;32m    246\u001b[0m         \u001b[0;32mand\u001b[0m \u001b[0;32mnot\u001b[0m \u001b[0misinstance\u001b[0m\u001b[0;34m(\u001b[0m\u001b[0mfunc_err\u001b[0m\u001b[0;34m,\u001b[0m \u001b[0mcatch\u001b[0m\u001b[0;34m)\u001b[0m\u001b[0;34m\u001b[0m\u001b[0;34m\u001b[0m\u001b[0m\n\u001b[1;32m    247\u001b[0m     ):\n\u001b[0;32m--> 248\u001b[0;31m         \u001b[0;32mraise\u001b[0m \u001b[0mfunc_err\u001b[0m\u001b[0;34m\u001b[0m\u001b[0;34m\u001b[0m\u001b[0m\n\u001b[0m\u001b[1;32m    249\u001b[0m     \u001b[0;32mreturn\u001b[0m \u001b[0mfrozen_trial\u001b[0m\u001b[0;34m\u001b[0m\u001b[0;34m\u001b[0m\u001b[0m\n\u001b[1;32m    250\u001b[0m \u001b[0;34m\u001b[0m\u001b[0m\n",
            "\u001b[0;32m/usr/local/lib/python3.10/dist-packages/optuna/study/_optimize.py\u001b[0m in \u001b[0;36m_run_trial\u001b[0;34m(study, func, catch)\u001b[0m\n\u001b[1;32m    195\u001b[0m     \u001b[0;32mwith\u001b[0m \u001b[0mget_heartbeat_thread\u001b[0m\u001b[0;34m(\u001b[0m\u001b[0mtrial\u001b[0m\u001b[0;34m.\u001b[0m\u001b[0m_trial_id\u001b[0m\u001b[0;34m,\u001b[0m \u001b[0mstudy\u001b[0m\u001b[0;34m.\u001b[0m\u001b[0m_storage\u001b[0m\u001b[0;34m)\u001b[0m\u001b[0;34m:\u001b[0m\u001b[0;34m\u001b[0m\u001b[0;34m\u001b[0m\u001b[0m\n\u001b[1;32m    196\u001b[0m         \u001b[0;32mtry\u001b[0m\u001b[0;34m:\u001b[0m\u001b[0;34m\u001b[0m\u001b[0;34m\u001b[0m\u001b[0m\n\u001b[0;32m--> 197\u001b[0;31m             \u001b[0mvalue_or_values\u001b[0m \u001b[0;34m=\u001b[0m \u001b[0mfunc\u001b[0m\u001b[0;34m(\u001b[0m\u001b[0mtrial\u001b[0m\u001b[0;34m)\u001b[0m\u001b[0;34m\u001b[0m\u001b[0;34m\u001b[0m\u001b[0m\n\u001b[0m\u001b[1;32m    198\u001b[0m         \u001b[0;32mexcept\u001b[0m \u001b[0mexceptions\u001b[0m\u001b[0;34m.\u001b[0m\u001b[0mTrialPruned\u001b[0m \u001b[0;32mas\u001b[0m \u001b[0me\u001b[0m\u001b[0;34m:\u001b[0m\u001b[0;34m\u001b[0m\u001b[0;34m\u001b[0m\u001b[0m\n\u001b[1;32m    199\u001b[0m             \u001b[0;31m# TODO(mamu): Handle multi-objective cases.\u001b[0m\u001b[0;34m\u001b[0m\u001b[0;34m\u001b[0m\u001b[0m\n",
            "\u001b[0;32m<ipython-input-63-04ed8b87d276>\u001b[0m in \u001b[0;36mobjective\u001b[0;34m(trial)\u001b[0m\n\u001b[1;32m     13\u001b[0m \u001b[0;34m\u001b[0m\u001b[0m\n\u001b[1;32m     14\u001b[0m     \u001b[0;31m# Treinamento e predição\u001b[0m\u001b[0;34m\u001b[0m\u001b[0;34m\u001b[0m\u001b[0m\n\u001b[0;32m---> 15\u001b[0;31m     \u001b[0mpipeline\u001b[0m\u001b[0;34m.\u001b[0m\u001b[0mfit\u001b[0m\u001b[0;34m(\u001b[0m\u001b[0mx_train\u001b[0m\u001b[0;34m,\u001b[0m \u001b[0my_train\u001b[0m\u001b[0;34m)\u001b[0m\u001b[0;34m\u001b[0m\u001b[0;34m\u001b[0m\u001b[0m\n\u001b[0m\u001b[1;32m     16\u001b[0m     \u001b[0my_pred\u001b[0m \u001b[0;34m=\u001b[0m \u001b[0mpipeline\u001b[0m\u001b[0;34m.\u001b[0m\u001b[0mpredict\u001b[0m\u001b[0;34m(\u001b[0m\u001b[0mx_validation\u001b[0m\u001b[0;34m)\u001b[0m\u001b[0;34m\u001b[0m\u001b[0;34m\u001b[0m\u001b[0m\n\u001b[1;32m     17\u001b[0m \u001b[0;34m\u001b[0m\u001b[0m\n",
            "\u001b[0;32m/usr/local/lib/python3.10/dist-packages/sklearn/base.py\u001b[0m in \u001b[0;36mwrapper\u001b[0;34m(estimator, *args, **kwargs)\u001b[0m\n\u001b[1;32m   1471\u001b[0m                 )\n\u001b[1;32m   1472\u001b[0m             ):\n\u001b[0;32m-> 1473\u001b[0;31m                 \u001b[0;32mreturn\u001b[0m \u001b[0mfit_method\u001b[0m\u001b[0;34m(\u001b[0m\u001b[0mestimator\u001b[0m\u001b[0;34m,\u001b[0m \u001b[0;34m*\u001b[0m\u001b[0margs\u001b[0m\u001b[0;34m,\u001b[0m \u001b[0;34m**\u001b[0m\u001b[0mkwargs\u001b[0m\u001b[0;34m)\u001b[0m\u001b[0;34m\u001b[0m\u001b[0;34m\u001b[0m\u001b[0m\n\u001b[0m\u001b[1;32m   1474\u001b[0m \u001b[0;34m\u001b[0m\u001b[0m\n\u001b[1;32m   1475\u001b[0m         \u001b[0;32mreturn\u001b[0m \u001b[0mwrapper\u001b[0m\u001b[0;34m\u001b[0m\u001b[0;34m\u001b[0m\u001b[0m\n",
            "\u001b[0;32m/usr/local/lib/python3.10/dist-packages/sklearn/pipeline.py\u001b[0m in \u001b[0;36mfit\u001b[0;34m(self, X, y, **params)\u001b[0m\n\u001b[1;32m    467\u001b[0m         \"\"\"\n\u001b[1;32m    468\u001b[0m         \u001b[0mrouted_params\u001b[0m \u001b[0;34m=\u001b[0m \u001b[0mself\u001b[0m\u001b[0;34m.\u001b[0m\u001b[0m_check_method_params\u001b[0m\u001b[0;34m(\u001b[0m\u001b[0mmethod\u001b[0m\u001b[0;34m=\u001b[0m\u001b[0;34m\"fit\"\u001b[0m\u001b[0;34m,\u001b[0m \u001b[0mprops\u001b[0m\u001b[0;34m=\u001b[0m\u001b[0mparams\u001b[0m\u001b[0;34m)\u001b[0m\u001b[0;34m\u001b[0m\u001b[0;34m\u001b[0m\u001b[0m\n\u001b[0;32m--> 469\u001b[0;31m         \u001b[0mXt\u001b[0m \u001b[0;34m=\u001b[0m \u001b[0mself\u001b[0m\u001b[0;34m.\u001b[0m\u001b[0m_fit\u001b[0m\u001b[0;34m(\u001b[0m\u001b[0mX\u001b[0m\u001b[0;34m,\u001b[0m \u001b[0my\u001b[0m\u001b[0;34m,\u001b[0m \u001b[0mrouted_params\u001b[0m\u001b[0;34m)\u001b[0m\u001b[0;34m\u001b[0m\u001b[0;34m\u001b[0m\u001b[0m\n\u001b[0m\u001b[1;32m    470\u001b[0m         \u001b[0;32mwith\u001b[0m \u001b[0m_print_elapsed_time\u001b[0m\u001b[0;34m(\u001b[0m\u001b[0;34m\"Pipeline\"\u001b[0m\u001b[0;34m,\u001b[0m \u001b[0mself\u001b[0m\u001b[0;34m.\u001b[0m\u001b[0m_log_message\u001b[0m\u001b[0;34m(\u001b[0m\u001b[0mlen\u001b[0m\u001b[0;34m(\u001b[0m\u001b[0mself\u001b[0m\u001b[0;34m.\u001b[0m\u001b[0msteps\u001b[0m\u001b[0;34m)\u001b[0m \u001b[0;34m-\u001b[0m \u001b[0;36m1\u001b[0m\u001b[0;34m)\u001b[0m\u001b[0;34m)\u001b[0m\u001b[0;34m:\u001b[0m\u001b[0;34m\u001b[0m\u001b[0;34m\u001b[0m\u001b[0m\n\u001b[1;32m    471\u001b[0m             \u001b[0;32mif\u001b[0m \u001b[0mself\u001b[0m\u001b[0;34m.\u001b[0m\u001b[0m_final_estimator\u001b[0m \u001b[0;34m!=\u001b[0m \u001b[0;34m\"passthrough\"\u001b[0m\u001b[0;34m:\u001b[0m\u001b[0;34m\u001b[0m\u001b[0;34m\u001b[0m\u001b[0m\n",
            "\u001b[0;32m/usr/local/lib/python3.10/dist-packages/sklearn/pipeline.py\u001b[0m in \u001b[0;36m_fit\u001b[0;34m(self, X, y, routed_params)\u001b[0m\n\u001b[1;32m    404\u001b[0m                 \u001b[0mcloned_transformer\u001b[0m \u001b[0;34m=\u001b[0m \u001b[0mclone\u001b[0m\u001b[0;34m(\u001b[0m\u001b[0mtransformer\u001b[0m\u001b[0;34m)\u001b[0m\u001b[0;34m\u001b[0m\u001b[0;34m\u001b[0m\u001b[0m\n\u001b[1;32m    405\u001b[0m             \u001b[0;31m# Fit or load from cache the current transformer\u001b[0m\u001b[0;34m\u001b[0m\u001b[0;34m\u001b[0m\u001b[0m\n\u001b[0;32m--> 406\u001b[0;31m             X, fitted_transformer = fit_transform_one_cached(\n\u001b[0m\u001b[1;32m    407\u001b[0m                 \u001b[0mcloned_transformer\u001b[0m\u001b[0;34m,\u001b[0m\u001b[0;34m\u001b[0m\u001b[0;34m\u001b[0m\u001b[0m\n\u001b[1;32m    408\u001b[0m                 \u001b[0mX\u001b[0m\u001b[0;34m,\u001b[0m\u001b[0;34m\u001b[0m\u001b[0;34m\u001b[0m\u001b[0m\n",
            "\u001b[0;32m/usr/local/lib/python3.10/dist-packages/joblib/memory.py\u001b[0m in \u001b[0;36m__call__\u001b[0;34m(self, *args, **kwargs)\u001b[0m\n\u001b[1;32m    310\u001b[0m \u001b[0;34m\u001b[0m\u001b[0m\n\u001b[1;32m    311\u001b[0m     \u001b[0;32mdef\u001b[0m \u001b[0m__call__\u001b[0m\u001b[0;34m(\u001b[0m\u001b[0mself\u001b[0m\u001b[0;34m,\u001b[0m \u001b[0;34m*\u001b[0m\u001b[0margs\u001b[0m\u001b[0;34m,\u001b[0m \u001b[0;34m**\u001b[0m\u001b[0mkwargs\u001b[0m\u001b[0;34m)\u001b[0m\u001b[0;34m:\u001b[0m\u001b[0;34m\u001b[0m\u001b[0;34m\u001b[0m\u001b[0m\n\u001b[0;32m--> 312\u001b[0;31m         \u001b[0;32mreturn\u001b[0m \u001b[0mself\u001b[0m\u001b[0;34m.\u001b[0m\u001b[0mfunc\u001b[0m\u001b[0;34m(\u001b[0m\u001b[0;34m*\u001b[0m\u001b[0margs\u001b[0m\u001b[0;34m,\u001b[0m \u001b[0;34m**\u001b[0m\u001b[0mkwargs\u001b[0m\u001b[0;34m)\u001b[0m\u001b[0;34m\u001b[0m\u001b[0;34m\u001b[0m\u001b[0m\n\u001b[0m\u001b[1;32m    313\u001b[0m \u001b[0;34m\u001b[0m\u001b[0m\n\u001b[1;32m    314\u001b[0m     \u001b[0;32mdef\u001b[0m \u001b[0mcall_and_shelve\u001b[0m\u001b[0;34m(\u001b[0m\u001b[0mself\u001b[0m\u001b[0;34m,\u001b[0m \u001b[0;34m*\u001b[0m\u001b[0margs\u001b[0m\u001b[0;34m,\u001b[0m \u001b[0;34m**\u001b[0m\u001b[0mkwargs\u001b[0m\u001b[0;34m)\u001b[0m\u001b[0;34m:\u001b[0m\u001b[0;34m\u001b[0m\u001b[0;34m\u001b[0m\u001b[0m\n",
            "\u001b[0;32m/usr/local/lib/python3.10/dist-packages/sklearn/pipeline.py\u001b[0m in \u001b[0;36m_fit_transform_one\u001b[0;34m(transformer, X, y, weight, message_clsname, message, params)\u001b[0m\n\u001b[1;32m   1308\u001b[0m     \u001b[0;32mwith\u001b[0m \u001b[0m_print_elapsed_time\u001b[0m\u001b[0;34m(\u001b[0m\u001b[0mmessage_clsname\u001b[0m\u001b[0;34m,\u001b[0m \u001b[0mmessage\u001b[0m\u001b[0;34m)\u001b[0m\u001b[0;34m:\u001b[0m\u001b[0;34m\u001b[0m\u001b[0;34m\u001b[0m\u001b[0m\n\u001b[1;32m   1309\u001b[0m         \u001b[0;32mif\u001b[0m \u001b[0mhasattr\u001b[0m\u001b[0;34m(\u001b[0m\u001b[0mtransformer\u001b[0m\u001b[0;34m,\u001b[0m \u001b[0;34m\"fit_transform\"\u001b[0m\u001b[0;34m)\u001b[0m\u001b[0;34m:\u001b[0m\u001b[0;34m\u001b[0m\u001b[0;34m\u001b[0m\u001b[0m\n\u001b[0;32m-> 1310\u001b[0;31m             \u001b[0mres\u001b[0m \u001b[0;34m=\u001b[0m \u001b[0mtransformer\u001b[0m\u001b[0;34m.\u001b[0m\u001b[0mfit_transform\u001b[0m\u001b[0;34m(\u001b[0m\u001b[0mX\u001b[0m\u001b[0;34m,\u001b[0m \u001b[0my\u001b[0m\u001b[0;34m,\u001b[0m \u001b[0;34m**\u001b[0m\u001b[0mparams\u001b[0m\u001b[0;34m.\u001b[0m\u001b[0mget\u001b[0m\u001b[0;34m(\u001b[0m\u001b[0;34m\"fit_transform\"\u001b[0m\u001b[0;34m,\u001b[0m \u001b[0;34m{\u001b[0m\u001b[0;34m}\u001b[0m\u001b[0;34m)\u001b[0m\u001b[0;34m)\u001b[0m\u001b[0;34m\u001b[0m\u001b[0;34m\u001b[0m\u001b[0m\n\u001b[0m\u001b[1;32m   1311\u001b[0m         \u001b[0;32melse\u001b[0m\u001b[0;34m:\u001b[0m\u001b[0;34m\u001b[0m\u001b[0;34m\u001b[0m\u001b[0m\n\u001b[1;32m   1312\u001b[0m             res = transformer.fit(X, y, **params.get(\"fit\", {})).transform(\n",
            "\u001b[0;32m/usr/local/lib/python3.10/dist-packages/sklearn/utils/_set_output.py\u001b[0m in \u001b[0;36mwrapped\u001b[0;34m(self, X, *args, **kwargs)\u001b[0m\n\u001b[1;32m    314\u001b[0m     \u001b[0;34m@\u001b[0m\u001b[0mwraps\u001b[0m\u001b[0;34m(\u001b[0m\u001b[0mf\u001b[0m\u001b[0;34m)\u001b[0m\u001b[0;34m\u001b[0m\u001b[0;34m\u001b[0m\u001b[0m\n\u001b[1;32m    315\u001b[0m     \u001b[0;32mdef\u001b[0m \u001b[0mwrapped\u001b[0m\u001b[0;34m(\u001b[0m\u001b[0mself\u001b[0m\u001b[0;34m,\u001b[0m \u001b[0mX\u001b[0m\u001b[0;34m,\u001b[0m \u001b[0;34m*\u001b[0m\u001b[0margs\u001b[0m\u001b[0;34m,\u001b[0m \u001b[0;34m**\u001b[0m\u001b[0mkwargs\u001b[0m\u001b[0;34m)\u001b[0m\u001b[0;34m:\u001b[0m\u001b[0;34m\u001b[0m\u001b[0;34m\u001b[0m\u001b[0m\n\u001b[0;32m--> 316\u001b[0;31m         \u001b[0mdata_to_wrap\u001b[0m \u001b[0;34m=\u001b[0m \u001b[0mf\u001b[0m\u001b[0;34m(\u001b[0m\u001b[0mself\u001b[0m\u001b[0;34m,\u001b[0m \u001b[0mX\u001b[0m\u001b[0;34m,\u001b[0m \u001b[0;34m*\u001b[0m\u001b[0margs\u001b[0m\u001b[0;34m,\u001b[0m \u001b[0;34m**\u001b[0m\u001b[0mkwargs\u001b[0m\u001b[0;34m)\u001b[0m\u001b[0;34m\u001b[0m\u001b[0;34m\u001b[0m\u001b[0m\n\u001b[0m\u001b[1;32m    317\u001b[0m         \u001b[0;32mif\u001b[0m \u001b[0misinstance\u001b[0m\u001b[0;34m(\u001b[0m\u001b[0mdata_to_wrap\u001b[0m\u001b[0;34m,\u001b[0m \u001b[0mtuple\u001b[0m\u001b[0;34m)\u001b[0m\u001b[0;34m:\u001b[0m\u001b[0;34m\u001b[0m\u001b[0;34m\u001b[0m\u001b[0m\n\u001b[1;32m    318\u001b[0m             \u001b[0;31m# only wrap the first output for cross decomposition\u001b[0m\u001b[0;34m\u001b[0m\u001b[0;34m\u001b[0m\u001b[0m\n",
            "\u001b[0;32m/usr/local/lib/python3.10/dist-packages/sklearn/base.py\u001b[0m in \u001b[0;36mwrapper\u001b[0;34m(estimator, *args, **kwargs)\u001b[0m\n\u001b[1;32m   1471\u001b[0m                 )\n\u001b[1;32m   1472\u001b[0m             ):\n\u001b[0;32m-> 1473\u001b[0;31m                 \u001b[0;32mreturn\u001b[0m \u001b[0mfit_method\u001b[0m\u001b[0;34m(\u001b[0m\u001b[0mestimator\u001b[0m\u001b[0;34m,\u001b[0m \u001b[0;34m*\u001b[0m\u001b[0margs\u001b[0m\u001b[0;34m,\u001b[0m \u001b[0;34m**\u001b[0m\u001b[0mkwargs\u001b[0m\u001b[0;34m)\u001b[0m\u001b[0;34m\u001b[0m\u001b[0;34m\u001b[0m\u001b[0m\n\u001b[0m\u001b[1;32m   1474\u001b[0m \u001b[0;34m\u001b[0m\u001b[0m\n\u001b[1;32m   1475\u001b[0m         \u001b[0;32mreturn\u001b[0m \u001b[0mwrapper\u001b[0m\u001b[0;34m\u001b[0m\u001b[0;34m\u001b[0m\u001b[0m\n",
            "\u001b[0;32m/usr/local/lib/python3.10/dist-packages/sklearn/compose/_column_transformer.py\u001b[0m in \u001b[0;36mfit_transform\u001b[0;34m(self, X, y, **params)\u001b[0m\n\u001b[1;32m    966\u001b[0m         \u001b[0mn_samples\u001b[0m \u001b[0;34m=\u001b[0m \u001b[0m_num_samples\u001b[0m\u001b[0;34m(\u001b[0m\u001b[0mX\u001b[0m\u001b[0;34m)\u001b[0m\u001b[0;34m\u001b[0m\u001b[0;34m\u001b[0m\u001b[0m\n\u001b[1;32m    967\u001b[0m \u001b[0;34m\u001b[0m\u001b[0m\n\u001b[0;32m--> 968\u001b[0;31m         \u001b[0mself\u001b[0m\u001b[0;34m.\u001b[0m\u001b[0m_validate_column_callables\u001b[0m\u001b[0;34m(\u001b[0m\u001b[0mX\u001b[0m\u001b[0;34m)\u001b[0m\u001b[0;34m\u001b[0m\u001b[0;34m\u001b[0m\u001b[0m\n\u001b[0m\u001b[1;32m    969\u001b[0m         \u001b[0mself\u001b[0m\u001b[0;34m.\u001b[0m\u001b[0m_validate_remainder\u001b[0m\u001b[0;34m(\u001b[0m\u001b[0mX\u001b[0m\u001b[0;34m)\u001b[0m\u001b[0;34m\u001b[0m\u001b[0;34m\u001b[0m\u001b[0m\n\u001b[1;32m    970\u001b[0m \u001b[0;34m\u001b[0m\u001b[0m\n",
            "\u001b[0;32m/usr/local/lib/python3.10/dist-packages/sklearn/compose/_column_transformer.py\u001b[0m in \u001b[0;36m_validate_column_callables\u001b[0;34m(self, X)\u001b[0m\n\u001b[1;32m    534\u001b[0m                 \u001b[0mcolumns\u001b[0m \u001b[0;34m=\u001b[0m \u001b[0mcolumns\u001b[0m\u001b[0;34m(\u001b[0m\u001b[0mX\u001b[0m\u001b[0;34m)\u001b[0m\u001b[0;34m\u001b[0m\u001b[0;34m\u001b[0m\u001b[0m\n\u001b[1;32m    535\u001b[0m             \u001b[0mall_columns\u001b[0m\u001b[0;34m.\u001b[0m\u001b[0mappend\u001b[0m\u001b[0;34m(\u001b[0m\u001b[0mcolumns\u001b[0m\u001b[0;34m)\u001b[0m\u001b[0;34m\u001b[0m\u001b[0;34m\u001b[0m\u001b[0m\n\u001b[0;32m--> 536\u001b[0;31m             \u001b[0mtransformer_to_input_indices\u001b[0m\u001b[0;34m[\u001b[0m\u001b[0mname\u001b[0m\u001b[0;34m]\u001b[0m \u001b[0;34m=\u001b[0m \u001b[0m_get_column_indices\u001b[0m\u001b[0;34m(\u001b[0m\u001b[0mX\u001b[0m\u001b[0;34m,\u001b[0m \u001b[0mcolumns\u001b[0m\u001b[0;34m)\u001b[0m\u001b[0;34m\u001b[0m\u001b[0;34m\u001b[0m\u001b[0m\n\u001b[0m\u001b[1;32m    537\u001b[0m \u001b[0;34m\u001b[0m\u001b[0m\n\u001b[1;32m    538\u001b[0m         \u001b[0mself\u001b[0m\u001b[0;34m.\u001b[0m\u001b[0m_columns\u001b[0m \u001b[0;34m=\u001b[0m \u001b[0mall_columns\u001b[0m\u001b[0;34m\u001b[0m\u001b[0;34m\u001b[0m\u001b[0m\n",
            "\u001b[0;32m/usr/local/lib/python3.10/dist-packages/sklearn/utils/_indexing.py\u001b[0m in \u001b[0;36m_get_column_indices\u001b[0;34m(X, key)\u001b[0m\n\u001b[1;32m    367\u001b[0m \u001b[0;34m\u001b[0m\u001b[0m\n\u001b[1;32m    368\u001b[0m         \u001b[0;32mexcept\u001b[0m \u001b[0mKeyError\u001b[0m \u001b[0;32mas\u001b[0m \u001b[0me\u001b[0m\u001b[0;34m:\u001b[0m\u001b[0;34m\u001b[0m\u001b[0;34m\u001b[0m\u001b[0m\n\u001b[0;32m--> 369\u001b[0;31m             \u001b[0;32mraise\u001b[0m \u001b[0mValueError\u001b[0m\u001b[0;34m(\u001b[0m\u001b[0;34m\"A given column is not a column of the dataframe\"\u001b[0m\u001b[0;34m)\u001b[0m \u001b[0;32mfrom\u001b[0m \u001b[0me\u001b[0m\u001b[0;34m\u001b[0m\u001b[0;34m\u001b[0m\u001b[0m\n\u001b[0m\u001b[1;32m    370\u001b[0m \u001b[0;34m\u001b[0m\u001b[0m\n\u001b[1;32m    371\u001b[0m         \u001b[0;32mreturn\u001b[0m \u001b[0mcolumn_indices\u001b[0m\u001b[0;34m\u001b[0m\u001b[0;34m\u001b[0m\u001b[0m\n",
            "\u001b[0;31mValueError\u001b[0m: A given column is not a column of the dataframe"
          ]
        }
      ]
    },
    {
      "cell_type": "code",
      "source": [
        "pipeline = Pipeline([\n",
        "      #('outlier_remover', outlier_remover),\n",
        "      ('preprocessor_svm', preprocessor_svm),\n",
        "      ('svm', SVC())\n",
        "  ])\n",
        "\n",
        "C = 900\n",
        "gamma = 0.11215038461268562\n",
        "kernel=  'sigmoid'\n",
        "\n",
        "pipeline.set_params(svm__C = C, svm__gamma = gamma, svm__kernel = kernel)\n",
        "pipeline.fit(x_train, y_train)\n",
        "\n",
        "y_pred = pipeline.predict(x_temp)\n",
        "score = f1_score(y_temp, y_pred)\n",
        "print(score)\n",
        "print(classification_report(y_temp, y_pred))\n"
      ],
      "metadata": {
        "colab": {
          "base_uri": "https://localhost:8080/",
          "height": 106
        },
        "id": "W9LxXvWSTpUH",
        "outputId": "b39e9e34-2f8f-4fb0-e318-2e60505a5875"
      },
      "execution_count": null,
      "outputs": [
        {
          "output_type": "error",
          "ename": "SyntaxError",
          "evalue": "incomplete input (<ipython-input-67-81cfc10a30d3>, line 1)",
          "traceback": [
            "\u001b[0;36m  File \u001b[0;32m\"<ipython-input-67-81cfc10a30d3>\"\u001b[0;36m, line \u001b[0;32m1\u001b[0m\n\u001b[0;31m    \"\"\"pipeline = Pipeline([\u001b[0m\n\u001b[0m    ^\u001b[0m\n\u001b[0;31mSyntaxError\u001b[0m\u001b[0;31m:\u001b[0m incomplete input\n"
          ]
        }
      ]
    },
    {
      "cell_type": "code",
      "execution_count": null,
      "metadata": {
        "id": "J-bAbmAhI-MG",
        "colab": {
          "base_uri": "https://localhost:8080/"
        },
        "outputId": "76e86b00-f689-48d5-c299-0ed69630fdcb"
      },
      "outputs": [
        {
          "output_type": "stream",
          "name": "stdout",
          "text": [
            "0.1935483870967742\n"
          ]
        }
      ],
      "source": [
        "print(score)"
      ]
    },
    {
      "cell_type": "code",
      "execution_count": null,
      "metadata": {
        "id": "HVrCApYuaDA9",
        "colab": {
          "base_uri": "https://localhost:8080/"
        },
        "outputId": "83c62392-1669-42c7-d10d-a4ec85a3d7b7"
      },
      "outputs": [
        {
          "output_type": "stream",
          "name": "stdout",
          "text": [
            "[[124   8]\n",
            " [ 17   3]]\n"
          ]
        }
      ],
      "source": [
        "print(confusion_matrix(y_temp, y_pred))\n",
        "\n"
      ]
    },
    {
      "cell_type": "code",
      "source": [],
      "metadata": {
        "id": "b9RR2K0ZmNC9"
      },
      "execution_count": null,
      "outputs": []
    }
  ],
  "metadata": {
    "colab": {
      "provenance": [],
      "include_colab_link": true
    },
    "kernelspec": {
      "display_name": "Python 3",
      "name": "python3"
    },
    "language_info": {
      "name": "python"
    }
  },
  "nbformat": 4,
  "nbformat_minor": 0
}
